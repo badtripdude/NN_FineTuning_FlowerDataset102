{
  "nbformat": 4,
  "nbformat_minor": 0,
  "metadata": {
    "colab": {
      "name": "Нейронка FineTuning FlowerDataset102.ipynb",
      "provenance": [],
      "toc_visible": true,
      "authorship_tag": "ABX9TyM7lBQtxh1b8p2ZtLaOSIIY",
      "include_colab_link": true
    },
    "kernelspec": {
      "name": "python3",
      "display_name": "Python 3"
    },
    "language_info": {
      "name": "python"
    },
    "accelerator": "GPU",
    "gpuClass": "standard"
  },
  "cells": [
    {
      "cell_type": "markdown",
      "metadata": {
        "id": "view-in-github",
        "colab_type": "text"
      },
      "source": [
        "<a href=\"https://colab.research.google.com/github/badtripdude/NN_FineTuning_FlowerDataset102/blob/main/NN_FineTuning_FlowerDataset102.ipynb\" target=\"_parent\"><img src=\"https://colab.research.google.com/assets/colab-badge.svg\" alt=\"Open In Colab\"/></a>"
      ]
    },
    {
      "cell_type": "code",
      "source": [
        "!pip install -q kaggle"
      ],
      "metadata": {
        "id": "iUjYVudGBrxm"
      },
      "execution_count": 40,
      "outputs": []
    },
    {
      "cell_type": "code",
      "source": [
        "from google.colab import files\n",
        "files.upload()"
      ],
      "metadata": {
        "colab": {
          "resources": {
            "http://localhost:8080/nbextensions/google.colab/files.js": {
              "data": "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",
              "ok": true,
              "headers": [
                [
                  "content-type",
                  "application/javascript"
                ]
              ],
              "status": 200,
              "status_text": ""
            }
          },
          "base_uri": "https://localhost:8080/",
          "height": 90
        },
        "id": "_FfNJ5FsB5em",
        "outputId": "507612b2-27d5-4758-9727-34afda39e8d4"
      },
      "execution_count": 41,
      "outputs": [
        {
          "output_type": "display_data",
          "data": {
            "text/plain": [
              "<IPython.core.display.HTML object>"
            ],
            "text/html": [
              "\n",
              "     <input type=\"file\" id=\"files-7b5cfd33-d19f-47a1-9340-9fe4671ac943\" name=\"files[]\" multiple disabled\n",
              "        style=\"border:none\" />\n",
              "     <output id=\"result-7b5cfd33-d19f-47a1-9340-9fe4671ac943\">\n",
              "      Upload widget is only available when the cell has been executed in the\n",
              "      current browser session. Please rerun this cell to enable.\n",
              "      </output>\n",
              "      <script src=\"/nbextensions/google.colab/files.js\"></script> "
            ]
          },
          "metadata": {}
        },
        {
          "output_type": "stream",
          "name": "stdout",
          "text": [
            "Saving kaggle.json to kaggle (1).json\n"
          ]
        },
        {
          "output_type": "execute_result",
          "data": {
            "text/plain": [
              "{'kaggle.json': b'{\"username\":\"ratmirshagivaleev\",\"key\":\"55618b233f48e924c1a5be9175f3a5fb\"}'}"
            ]
          },
          "metadata": {},
          "execution_count": 41
        }
      ]
    },
    {
      "cell_type": "code",
      "source": [
        "!mkdir ~/.kaggle\n",
        "!cp kaggle.json ~/.kaggle"
      ],
      "metadata": {
        "id": "D9sivtIEDZsD",
        "colab": {
          "base_uri": "https://localhost:8080/"
        },
        "outputId": "c8d4213a-dee3-440b-82c9-3a879b49450c"
      },
      "execution_count": 42,
      "outputs": [
        {
          "output_type": "stream",
          "name": "stdout",
          "text": [
            "mkdir: cannot create directory ‘/root/.kaggle’: File exists\n"
          ]
        }
      ]
    },
    {
      "cell_type": "code",
      "source": [
        "!chmod 600 /root/.kaggle/kaggle.json"
      ],
      "metadata": {
        "id": "A6UlfvQkEyaa"
      },
      "execution_count": 43,
      "outputs": []
    },
    {
      "cell_type": "code",
      "source": [
        "!ls\n",
        "# https://www.kaggle.com/datasets/demonplus/flower-dataset-102/download/ivxdtU9A8KqyvqecHcdM%2Fversions%2FP2Q2VkAR9a5LnovH0OVf%2Ffiles%2F102flowers.tgz?datasetVersionNumber=1"
      ],
      "metadata": {
        "colab": {
          "base_uri": "https://localhost:8080/"
        },
        "id": "crXGUk0oCYop",
        "outputId": "c803f377-f166-42bf-ef5b-dab3fd120a84"
      },
      "execution_count": 44,
      "outputs": [
        {
          "output_type": "stream",
          "name": "stdout",
          "text": [
            " 102flowers.tgz    flower-dataset-102.zip  'kaggle (1).json'\n",
            " best_model.hdf5   imagelabels.mat\t    kaggle.json\n",
            " data\t\t   jpg\t\t\t    sample_data\n"
          ]
        }
      ]
    },
    {
      "cell_type": "code",
      "source": [
        "!kaggle datasets list"
      ],
      "metadata": {
        "colab": {
          "base_uri": "https://localhost:8080/"
        },
        "id": "Kxx5w2LODOP_",
        "outputId": "a6da3801-82c9-4a2e-aa36-43a80e09bd67"
      },
      "execution_count": 45,
      "outputs": [
        {
          "output_type": "stream",
          "name": "stdout",
          "text": [
            "ref                                                             title                                                size  lastUpdated          downloadCount  voteCount  usabilityRating  \n",
            "--------------------------------------------------------------  --------------------------------------------------  -----  -------------------  -------------  ---------  ---------------  \n",
            "victorsoeiro/netflix-tv-shows-and-movies                        Netflix TV Shows and Movies                           2MB  2022-05-15 00:01:23          10070        307  1.0              \n",
            "devansodariya/student-performance-data                          Student Performance Dataset                           7KB  2022-05-26 13:55:09           5542        172  0.9705882        \n",
            "mohamedharris/supermart-grocery-sales-retail-analytics-dataset  Supermart Grocery Sales - Retail Analytics Dataset  191KB  2022-06-12 16:14:44            812         44  0.88235295       \n",
            "sameepvani/nasa-nearest-earth-objects                           NASA - Nearest Earth Objects                          7MB  2022-06-17 02:32:18            494         39  1.0              \n",
            "ruchi798/data-science-job-salaries                              Data Science Job Salaries                             7KB  2022-06-15 08:59:12            928         46  1.0              \n",
            "iamsouravbanerjee/software-professional-salaries-2022           Salary Dataset - 2022                               526KB  2022-06-15 17:13:05           1997         54  1.0              \n",
            "hanzlanawaz/monkeypox-outbreak                                  Monkeypox Outbreak Dataset                           27KB  2022-06-06 03:13:58            839         42  0.9705882        \n",
            "mayureshkoli/police-deaths-in-usa-from-1791-to-2022             Police deaths in USA from 1791 to 2022              698KB  2022-06-09 17:47:57            997         32  1.0              \n",
            "imoore/age-dataset                                              Age dataset: life, work, and death of 1.22M people   34MB  2022-06-07 08:56:52            876         56  1.0              \n",
            "hassanshehzadk/top-50-most-followed-instagram-accounts          Top 50 Most Followed Instagram Accounts               2KB  2022-06-07 06:40:27            465         26  1.0              \n",
            "paradisejoy/top-hits-spotify-from-20002019                      Top Hits Spotify from 2000-2019                      94KB  2022-05-31 07:20:57           7339        167  1.0              \n",
            "saddamazyazy/go-to-college-dataset                              Go To College Dataset                                12KB  2022-05-20 10:46:02           2147         53  1.0              \n",
            "outofskills/driving-behavior                                    Driving Behavior                                    196KB  2022-06-05 09:40:48            501         32  1.0              \n",
            "odins0n/amex-parquet                                            Amex Competition Data in Parquet Format               9GB  2022-05-25 23:20:19           1039        131  1.0              \n",
            "dansbecker/melbourne-housing-snapshot                           Melbourne Housing Snapshot                          451KB  2018-06-05 12:52:24          89370       1095  0.7058824        \n",
            "digvijaysinhgohil/imdb-dataset-toprated-films-18982022          IMDb Dataset Top-Rated films 1898-2022               50KB  2022-06-15 08:41:14            373         31  1.0              \n",
            "srivnaman/data-science-and-ai-jobs-indeed                       Data Science and AI Jobs Indeed                      59KB  2022-06-16 16:40:52            222         28  0.88235295       \n",
            "surajjha101/stores-area-and-sales-data                          Supermarket store branches sales analysis            10KB  2022-04-29 11:10:16           7279        197  1.0              \n",
            "ruchi798/parquet-files-amexdefault-prediction                   Feather & Parquet Files : AMEX-Default Prediction    22GB  2022-05-26 05:46:53            746        107  1.0              \n",
            "azminetoushikwasi/ucl-202122-uefa-champions-league              UCL ⚽ 2021-22 ⭐ Players Data | Champions League      55KB  2022-06-20 03:01:18           1733         55  1.0              \n"
          ]
        }
      ]
    },
    {
      "cell_type": "code",
      "source": [
        "!kaggle datasets download demonplus/flower-dataset-102"
      ],
      "metadata": {
        "colab": {
          "base_uri": "https://localhost:8080/"
        },
        "id": "UQah-VNSElgi",
        "outputId": "34f57821-5821-4dd2-9684-f75d0b9c6c9d"
      },
      "execution_count": 46,
      "outputs": [
        {
          "output_type": "stream",
          "name": "stdout",
          "text": [
            "flower-dataset-102.zip: Skipping, found more recently modified local copy (use --force to force download)\n"
          ]
        }
      ]
    },
    {
      "cell_type": "code",
      "source": [
        "!ls"
      ],
      "metadata": {
        "colab": {
          "base_uri": "https://localhost:8080/"
        },
        "id": "STYJ2AheFJMg",
        "outputId": "54a18bce-22f8-496e-b27c-0934d4fa54f0"
      },
      "execution_count": 47,
      "outputs": [
        {
          "output_type": "stream",
          "name": "stdout",
          "text": [
            " 102flowers.tgz    flower-dataset-102.zip  'kaggle (1).json'\n",
            " best_model.hdf5   imagelabels.mat\t    kaggle.json\n",
            " data\t\t   jpg\t\t\t    sample_data\n"
          ]
        }
      ]
    },
    {
      "cell_type": "code",
      "source": [
        "!unzip flower-dataset-102.zip\n",
        "!mkdir data\n",
        "\n",
        "!cp 102flowers.tgz *.mat data\n",
        "!ls data"
      ],
      "metadata": {
        "colab": {
          "base_uri": "https://localhost:8080/"
        },
        "id": "rCiCp1H-Fxge",
        "outputId": "a6128f97-1bcf-4770-b90a-b3b525aa8db2"
      },
      "execution_count": 48,
      "outputs": [
        {
          "output_type": "stream",
          "name": "stdout",
          "text": [
            "Archive:  flower-dataset-102.zip\n",
            "replace 102flowers.tgz? [y]es, [n]o, [A]ll, [N]one, [r]ename: y\n",
            "  inflating: 102flowers.tgz          \n",
            "replace imagelabels.mat? [y]es, [n]o, [A]ll, [N]one, [r]ename: y\n",
            "  inflating: imagelabels.mat         \n",
            "mkdir: cannot create directory ‘data’: File exists\n",
            "102flowers.tgz\timagelabels.mat\n"
          ]
        }
      ]
    },
    {
      "cell_type": "code",
      "source": [
        "!ls data"
      ],
      "metadata": {
        "colab": {
          "base_uri": "https://localhost:8080/"
        },
        "id": "ain9KWUzLvqF",
        "outputId": "8ffe1b96-63bf-4ffe-8f77-0bf429c8d493"
      },
      "execution_count": 49,
      "outputs": [
        {
          "output_type": "stream",
          "name": "stdout",
          "text": [
            "102flowers.tgz\timagelabels.mat\n"
          ]
        }
      ]
    },
    {
      "cell_type": "code",
      "source": [
        ""
      ],
      "metadata": {
        "id": "RUV2V1T9IR1u"
      },
      "execution_count": 49,
      "outputs": []
    },
    {
      "cell_type": "code",
      "execution_count": 50,
      "metadata": {
        "id": "HDSURFhK4TBu"
      },
      "outputs": [],
      "source": [
        "import numpy as np\n",
        "import pandas as pd\n",
        "import matplotlib.pyplot as plt\n",
        "import seaborn as sns\n",
        "import pickle\n",
        "import scipy.io\n",
        "import tarfile\n",
        "import csv\n",
        "import sys\n",
        "import os\n",
        "\n",
        "\n",
        "import tensorflow as tf\n",
        "import tensorflow.keras as keras\n",
        "import tensorflow.keras.models as M\n",
        "import tensorflow.keras.layers as L\n",
        "import tensorflow.keras.backend as K\n",
        "import tensorflow.keras.callbacks as C\n",
        "from tensorflow.keras.preprocessing import image\n",
        "from tensorflow.keras.preprocessing.image import ImageDataGenerator\n",
        "from tensorflow.keras.callbacks import LearningRateScheduler, ModelCheckpoint, EarlyStopping\n",
        "from tensorflow.keras.callbacks import Callback\n",
        "#from tensorflow.keras.regularizers import l2\n",
        "from tensorflow.keras import optimizers\n",
        "#from tf.keras.applications.inception_v3 import Inception_v3\n",
        "\n",
        "from sklearn.model_selection import train_test_split\n",
        " \n",
        "import PIL\n",
        "from PIL import ImageOps, ImageFilter"
      ]
    },
    {
      "cell_type": "code",
      "source": [
        "EPOCHS               = 12\n",
        "BATCH_SIZE           = 128\n",
        "LR                   = 1e-3\n",
        "VAL_SPLIT            = 0.2\n",
        "\n",
        "CLASS_NUM            = 102\n",
        "IMG_SIZE             = 128\n",
        "IMG_CHANNELS         = 3\n",
        "input_shape          = (IMG_SIZE, IMG_SIZE, IMG_CHANNELS)\n",
        "\n",
        "DATA_PATH = 'data/'\n",
        "PATH = \"./\""
      ],
      "metadata": {
        "id": "hYtlZ0jO4kRZ"
      },
      "execution_count": 51,
      "outputs": []
    },
    {
      "cell_type": "code",
      "source": [
        "# Setting seed for reproducibility\n",
        "# os.makedirs(PATH,exist_ok=False)\n",
        "\n",
        "RANDOM_SEED = 42\n",
        "np.random.seed(RANDOM_SEED)  \n",
        "PYTHONHASHSEED = 0"
      ],
      "metadata": {
        "id": "V4WXup2Z4qmz"
      },
      "execution_count": 52,
      "outputs": []
    },
    {
      "cell_type": "code",
      "source": [
        "# прочитаем все названия файлов прям из архива и таргеты к ним\n",
        "def get_all_filenames(tar_fn):\n",
        "    with tarfile.open(tar_fn) as f:\n",
        "        return [m.name for m in f.getmembers() if m.isfile()]\n",
        "\n",
        "df = pd.DataFrame()\n",
        "df['Id'] = sorted(get_all_filenames(DATA_PATH+\"102flowers.tgz\"))\n",
        "df['Category'] = scipy.io.loadmat(DATA_PATH+'imagelabels.mat')['labels'][0] - 1  # классы (0, 1, 2, ...)\n",
        "df['Category'] = df['Category'].astype(str)"
      ],
      "metadata": {
        "id": "VBr6VffS4tDy"
      },
      "execution_count": 53,
      "outputs": []
    },
    {
      "cell_type": "code",
      "source": [
        "tarfile.open(DATA_PATH + '102flowers.tgz').extractall()\n"
      ],
      "metadata": {
        "id": "3ZJEC-9YIsvu"
      },
      "execution_count": 54,
      "outputs": []
    },
    {
      "cell_type": "code",
      "source": [
        "!ls "
      ],
      "metadata": {
        "colab": {
          "base_uri": "https://localhost:8080/"
        },
        "id": "H1-5aNBDJD6J",
        "outputId": "54760ff9-a69d-45c8-dfe0-cba08ddcc8ca"
      },
      "execution_count": 55,
      "outputs": [
        {
          "output_type": "stream",
          "name": "stdout",
          "text": [
            " 102flowers.tgz    flower-dataset-102.zip  'kaggle (1).json'\n",
            " best_model.hdf5   imagelabels.mat\t    kaggle.json\n",
            " data\t\t   jpg\t\t\t    sample_data\n"
          ]
        }
      ]
    },
    {
      "cell_type": "code",
      "source": [
        "df.head(5)"
      ],
      "metadata": {
        "id": "W3-hR_6u4vca",
        "colab": {
          "base_uri": "https://localhost:8080/",
          "height": 206
        },
        "outputId": "c6318412-fd64-424f-c85a-83dea9735ffe"
      },
      "execution_count": 56,
      "outputs": [
        {
          "output_type": "execute_result",
          "data": {
            "text/plain": [
              "                    Id Category\n",
              "0  jpg/image_00001.jpg       76\n",
              "1  jpg/image_00002.jpg       76\n",
              "2  jpg/image_00003.jpg       76\n",
              "3  jpg/image_00004.jpg       76\n",
              "4  jpg/image_00005.jpg       76"
            ],
            "text/html": [
              "\n",
              "  <div id=\"df-5b343d8b-22fd-4fce-a985-de82f89fa96a\">\n",
              "    <div class=\"colab-df-container\">\n",
              "      <div>\n",
              "<style scoped>\n",
              "    .dataframe tbody tr th:only-of-type {\n",
              "        vertical-align: middle;\n",
              "    }\n",
              "\n",
              "    .dataframe tbody tr th {\n",
              "        vertical-align: top;\n",
              "    }\n",
              "\n",
              "    .dataframe thead th {\n",
              "        text-align: right;\n",
              "    }\n",
              "</style>\n",
              "<table border=\"1\" class=\"dataframe\">\n",
              "  <thead>\n",
              "    <tr style=\"text-align: right;\">\n",
              "      <th></th>\n",
              "      <th>Id</th>\n",
              "      <th>Category</th>\n",
              "    </tr>\n",
              "  </thead>\n",
              "  <tbody>\n",
              "    <tr>\n",
              "      <th>0</th>\n",
              "      <td>jpg/image_00001.jpg</td>\n",
              "      <td>76</td>\n",
              "    </tr>\n",
              "    <tr>\n",
              "      <th>1</th>\n",
              "      <td>jpg/image_00002.jpg</td>\n",
              "      <td>76</td>\n",
              "    </tr>\n",
              "    <tr>\n",
              "      <th>2</th>\n",
              "      <td>jpg/image_00003.jpg</td>\n",
              "      <td>76</td>\n",
              "    </tr>\n",
              "    <tr>\n",
              "      <th>3</th>\n",
              "      <td>jpg/image_00004.jpg</td>\n",
              "      <td>76</td>\n",
              "    </tr>\n",
              "    <tr>\n",
              "      <th>4</th>\n",
              "      <td>jpg/image_00005.jpg</td>\n",
              "      <td>76</td>\n",
              "    </tr>\n",
              "  </tbody>\n",
              "</table>\n",
              "</div>\n",
              "      <button class=\"colab-df-convert\" onclick=\"convertToInteractive('df-5b343d8b-22fd-4fce-a985-de82f89fa96a')\"\n",
              "              title=\"Convert this dataframe to an interactive table.\"\n",
              "              style=\"display:none;\">\n",
              "        \n",
              "  <svg xmlns=\"http://www.w3.org/2000/svg\" height=\"24px\"viewBox=\"0 0 24 24\"\n",
              "       width=\"24px\">\n",
              "    <path d=\"M0 0h24v24H0V0z\" fill=\"none\"/>\n",
              "    <path d=\"M18.56 5.44l.94 2.06.94-2.06 2.06-.94-2.06-.94-.94-2.06-.94 2.06-2.06.94zm-11 1L8.5 8.5l.94-2.06 2.06-.94-2.06-.94L8.5 2.5l-.94 2.06-2.06.94zm10 10l.94 2.06.94-2.06 2.06-.94-2.06-.94-.94-2.06-.94 2.06-2.06.94z\"/><path d=\"M17.41 7.96l-1.37-1.37c-.4-.4-.92-.59-1.43-.59-.52 0-1.04.2-1.43.59L10.3 9.45l-7.72 7.72c-.78.78-.78 2.05 0 2.83L4 21.41c.39.39.9.59 1.41.59.51 0 1.02-.2 1.41-.59l7.78-7.78 2.81-2.81c.8-.78.8-2.07 0-2.86zM5.41 20L4 18.59l7.72-7.72 1.47 1.35L5.41 20z\"/>\n",
              "  </svg>\n",
              "      </button>\n",
              "      \n",
              "  <style>\n",
              "    .colab-df-container {\n",
              "      display:flex;\n",
              "      flex-wrap:wrap;\n",
              "      gap: 12px;\n",
              "    }\n",
              "\n",
              "    .colab-df-convert {\n",
              "      background-color: #E8F0FE;\n",
              "      border: none;\n",
              "      border-radius: 50%;\n",
              "      cursor: pointer;\n",
              "      display: none;\n",
              "      fill: #1967D2;\n",
              "      height: 32px;\n",
              "      padding: 0 0 0 0;\n",
              "      width: 32px;\n",
              "    }\n",
              "\n",
              "    .colab-df-convert:hover {\n",
              "      background-color: #E2EBFA;\n",
              "      box-shadow: 0px 1px 2px rgba(60, 64, 67, 0.3), 0px 1px 3px 1px rgba(60, 64, 67, 0.15);\n",
              "      fill: #174EA6;\n",
              "    }\n",
              "\n",
              "    [theme=dark] .colab-df-convert {\n",
              "      background-color: #3B4455;\n",
              "      fill: #D2E3FC;\n",
              "    }\n",
              "\n",
              "    [theme=dark] .colab-df-convert:hover {\n",
              "      background-color: #434B5C;\n",
              "      box-shadow: 0px 1px 3px 1px rgba(0, 0, 0, 0.15);\n",
              "      filter: drop-shadow(0px 1px 2px rgba(0, 0, 0, 0.3));\n",
              "      fill: #FFFFFF;\n",
              "    }\n",
              "  </style>\n",
              "\n",
              "      <script>\n",
              "        const buttonEl =\n",
              "          document.querySelector('#df-5b343d8b-22fd-4fce-a985-de82f89fa96a button.colab-df-convert');\n",
              "        buttonEl.style.display =\n",
              "          google.colab.kernel.accessAllowed ? 'block' : 'none';\n",
              "\n",
              "        async function convertToInteractive(key) {\n",
              "          const element = document.querySelector('#df-5b343d8b-22fd-4fce-a985-de82f89fa96a');\n",
              "          const dataTable =\n",
              "            await google.colab.kernel.invokeFunction('convertToInteractive',\n",
              "                                                     [key], {});\n",
              "          if (!dataTable) return;\n",
              "\n",
              "          const docLinkHtml = 'Like what you see? Visit the ' +\n",
              "            '<a target=\"_blank\" href=https://colab.research.google.com/notebooks/data_table.ipynb>data table notebook</a>'\n",
              "            + ' to learn more about interactive tables.';\n",
              "          element.innerHTML = '';\n",
              "          dataTable['output_type'] = 'display_data';\n",
              "          await google.colab.output.renderOutput(dataTable, element);\n",
              "          const docLink = document.createElement('div');\n",
              "          docLink.innerHTML = docLinkHtml;\n",
              "          element.appendChild(docLink);\n",
              "        }\n",
              "      </script>\n",
              "    </div>\n",
              "  </div>\n",
              "  "
            ]
          },
          "metadata": {},
          "execution_count": 56
        }
      ]
    },
    {
      "cell_type": "code",
      "source": [
        "train_files, test_files, train_labels, test_labels = \\\n",
        "    train_test_split(df['Id'], df['Category'], test_size=0.2, random_state=42, stratify=df['Category'])\n",
        "\n",
        "train_files = pd.DataFrame(train_files)\n",
        "test_files = pd.DataFrame(test_files)\n",
        "train_files['Category'] = train_labels\n",
        "test_files['Category'] = test_labels\n",
        "\n",
        "train_files.shape, test_files.shape"
      ],
      "metadata": {
        "colab": {
          "base_uri": "https://localhost:8080/"
        },
        "id": "0FoMtaNAHJ9W",
        "outputId": "cf054bc5-aacb-41fb-ba6d-09e22e03ed4a"
      },
      "execution_count": 57,
      "outputs": [
        {
          "output_type": "execute_result",
          "data": {
            "text/plain": [
              "((6551, 2), (1638, 2))"
            ]
          },
          "metadata": {},
          "execution_count": 57
        }
      ]
    },
    {
      "cell_type": "code",
      "source": [
        "train_datagen = ImageDataGenerator(rescale=1. / 255,\n",
        "                                   rotation_range = 50,\n",
        "                                   shear_range=0.2,\n",
        "                                   zoom_range=[0.75, 1.25],\n",
        "                                   brightness_range=[0.5, 1.5],\n",
        "                                   width_shift_range=0.1,\n",
        "                                   height_shift_range=0.1,\n",
        "                                   horizontal_flip=True\n",
        "                                  )\n",
        "\n",
        "test_datagen = ImageDataGenerator(rescale=1. / 255)"
      ],
      "metadata": {
        "id": "Zep7j4R7HQs7"
      },
      "execution_count": 58,
      "outputs": []
    },
    {
      "cell_type": "code",
      "source": [
        "train_generator = train_datagen.flow_from_dataframe(\n",
        "    dataframe=train_files,\n",
        "    directory=PATH,\n",
        "    x_col=\"Id\",\n",
        "    y_col=\"Category\",\n",
        "    target_size=(IMG_SIZE, IMG_SIZE),\n",
        "    batch_size=BATCH_SIZE,\n",
        "    class_mode='categorical',\n",
        "    shuffle=True, \n",
        "    seed=RANDOM_SEED,)\n",
        "\n",
        "test_generator = test_datagen.flow_from_dataframe(\n",
        "    dataframe=test_files,\n",
        "    directory=PATH,\n",
        "    x_col=\"Id\",\n",
        "    y_col=\"Category\",\n",
        "    target_size=(IMG_SIZE, IMG_SIZE),\n",
        "    batch_size=BATCH_SIZE,\n",
        "    class_mode='categorical',\n",
        "    shuffle=False, \n",
        "    seed=RANDOM_SEED,)"
      ],
      "metadata": {
        "colab": {
          "base_uri": "https://localhost:8080/"
        },
        "id": "uddc2kwZHWWs",
        "outputId": "d396a629-8e3e-47b5-c764-1341835814a9"
      },
      "execution_count": 59,
      "outputs": [
        {
          "output_type": "stream",
          "name": "stdout",
          "text": [
            "Found 6551 validated image filenames belonging to 102 classes.\n",
            "Found 1638 validated image filenames belonging to 102 classes.\n"
          ]
        }
      ]
    },
    {
      "cell_type": "code",
      "source": [
        "model_base = keras.applications.ResNet50V2(weights='imagenet', include_top=False, input_shape=input_shape)"
      ],
      "metadata": {
        "id": "Nj_pcdJ0fLWH"
      },
      "execution_count": 60,
      "outputs": []
    },
    {
      "cell_type": "code",
      "source": [
        "model_base.summary()"
      ],
      "metadata": {
        "colab": {
          "base_uri": "https://localhost:8080/"
        },
        "id": "Ko_jGCjDg_px",
        "outputId": "b7879d39-6b03-4c4a-b540-502e0e03d1a1"
      },
      "execution_count": 61,
      "outputs": [
        {
          "output_type": "stream",
          "name": "stdout",
          "text": [
            "Model: \"resnet50v2\"\n",
            "__________________________________________________________________________________________________\n",
            " Layer (type)                   Output Shape         Param #     Connected to                     \n",
            "==================================================================================================\n",
            " input_2 (InputLayer)           [(None, 128, 128, 3  0           []                               \n",
            "                                )]                                                                \n",
            "                                                                                                  \n",
            " conv1_pad (ZeroPadding2D)      (None, 134, 134, 3)  0           ['input_2[0][0]']                \n",
            "                                                                                                  \n",
            " conv1_conv (Conv2D)            (None, 64, 64, 64)   9472        ['conv1_pad[0][0]']              \n",
            "                                                                                                  \n",
            " pool1_pad (ZeroPadding2D)      (None, 66, 66, 64)   0           ['conv1_conv[0][0]']             \n",
            "                                                                                                  \n",
            " pool1_pool (MaxPooling2D)      (None, 32, 32, 64)   0           ['pool1_pad[0][0]']              \n",
            "                                                                                                  \n",
            " conv2_block1_preact_bn (BatchN  (None, 32, 32, 64)  256         ['pool1_pool[0][0]']             \n",
            " ormalization)                                                                                    \n",
            "                                                                                                  \n",
            " conv2_block1_preact_relu (Acti  (None, 32, 32, 64)  0           ['conv2_block1_preact_bn[0][0]'] \n",
            " vation)                                                                                          \n",
            "                                                                                                  \n",
            " conv2_block1_1_conv (Conv2D)   (None, 32, 32, 64)   4096        ['conv2_block1_preact_relu[0][0]'\n",
            "                                                                 ]                                \n",
            "                                                                                                  \n",
            " conv2_block1_1_bn (BatchNormal  (None, 32, 32, 64)  256         ['conv2_block1_1_conv[0][0]']    \n",
            " ization)                                                                                         \n",
            "                                                                                                  \n",
            " conv2_block1_1_relu (Activatio  (None, 32, 32, 64)  0           ['conv2_block1_1_bn[0][0]']      \n",
            " n)                                                                                               \n",
            "                                                                                                  \n",
            " conv2_block1_2_pad (ZeroPaddin  (None, 34, 34, 64)  0           ['conv2_block1_1_relu[0][0]']    \n",
            " g2D)                                                                                             \n",
            "                                                                                                  \n",
            " conv2_block1_2_conv (Conv2D)   (None, 32, 32, 64)   36864       ['conv2_block1_2_pad[0][0]']     \n",
            "                                                                                                  \n",
            " conv2_block1_2_bn (BatchNormal  (None, 32, 32, 64)  256         ['conv2_block1_2_conv[0][0]']    \n",
            " ization)                                                                                         \n",
            "                                                                                                  \n",
            " conv2_block1_2_relu (Activatio  (None, 32, 32, 64)  0           ['conv2_block1_2_bn[0][0]']      \n",
            " n)                                                                                               \n",
            "                                                                                                  \n",
            " conv2_block1_0_conv (Conv2D)   (None, 32, 32, 256)  16640       ['conv2_block1_preact_relu[0][0]'\n",
            "                                                                 ]                                \n",
            "                                                                                                  \n",
            " conv2_block1_3_conv (Conv2D)   (None, 32, 32, 256)  16640       ['conv2_block1_2_relu[0][0]']    \n",
            "                                                                                                  \n",
            " conv2_block1_out (Add)         (None, 32, 32, 256)  0           ['conv2_block1_0_conv[0][0]',    \n",
            "                                                                  'conv2_block1_3_conv[0][0]']    \n",
            "                                                                                                  \n",
            " conv2_block2_preact_bn (BatchN  (None, 32, 32, 256)  1024       ['conv2_block1_out[0][0]']       \n",
            " ormalization)                                                                                    \n",
            "                                                                                                  \n",
            " conv2_block2_preact_relu (Acti  (None, 32, 32, 256)  0          ['conv2_block2_preact_bn[0][0]'] \n",
            " vation)                                                                                          \n",
            "                                                                                                  \n",
            " conv2_block2_1_conv (Conv2D)   (None, 32, 32, 64)   16384       ['conv2_block2_preact_relu[0][0]'\n",
            "                                                                 ]                                \n",
            "                                                                                                  \n",
            " conv2_block2_1_bn (BatchNormal  (None, 32, 32, 64)  256         ['conv2_block2_1_conv[0][0]']    \n",
            " ization)                                                                                         \n",
            "                                                                                                  \n",
            " conv2_block2_1_relu (Activatio  (None, 32, 32, 64)  0           ['conv2_block2_1_bn[0][0]']      \n",
            " n)                                                                                               \n",
            "                                                                                                  \n",
            " conv2_block2_2_pad (ZeroPaddin  (None, 34, 34, 64)  0           ['conv2_block2_1_relu[0][0]']    \n",
            " g2D)                                                                                             \n",
            "                                                                                                  \n",
            " conv2_block2_2_conv (Conv2D)   (None, 32, 32, 64)   36864       ['conv2_block2_2_pad[0][0]']     \n",
            "                                                                                                  \n",
            " conv2_block2_2_bn (BatchNormal  (None, 32, 32, 64)  256         ['conv2_block2_2_conv[0][0]']    \n",
            " ization)                                                                                         \n",
            "                                                                                                  \n",
            " conv2_block2_2_relu (Activatio  (None, 32, 32, 64)  0           ['conv2_block2_2_bn[0][0]']      \n",
            " n)                                                                                               \n",
            "                                                                                                  \n",
            " conv2_block2_3_conv (Conv2D)   (None, 32, 32, 256)  16640       ['conv2_block2_2_relu[0][0]']    \n",
            "                                                                                                  \n",
            " conv2_block2_out (Add)         (None, 32, 32, 256)  0           ['conv2_block1_out[0][0]',       \n",
            "                                                                  'conv2_block2_3_conv[0][0]']    \n",
            "                                                                                                  \n",
            " conv2_block3_preact_bn (BatchN  (None, 32, 32, 256)  1024       ['conv2_block2_out[0][0]']       \n",
            " ormalization)                                                                                    \n",
            "                                                                                                  \n",
            " conv2_block3_preact_relu (Acti  (None, 32, 32, 256)  0          ['conv2_block3_preact_bn[0][0]'] \n",
            " vation)                                                                                          \n",
            "                                                                                                  \n",
            " conv2_block3_1_conv (Conv2D)   (None, 32, 32, 64)   16384       ['conv2_block3_preact_relu[0][0]'\n",
            "                                                                 ]                                \n",
            "                                                                                                  \n",
            " conv2_block3_1_bn (BatchNormal  (None, 32, 32, 64)  256         ['conv2_block3_1_conv[0][0]']    \n",
            " ization)                                                                                         \n",
            "                                                                                                  \n",
            " conv2_block3_1_relu (Activatio  (None, 32, 32, 64)  0           ['conv2_block3_1_bn[0][0]']      \n",
            " n)                                                                                               \n",
            "                                                                                                  \n",
            " conv2_block3_2_pad (ZeroPaddin  (None, 34, 34, 64)  0           ['conv2_block3_1_relu[0][0]']    \n",
            " g2D)                                                                                             \n",
            "                                                                                                  \n",
            " conv2_block3_2_conv (Conv2D)   (None, 16, 16, 64)   36864       ['conv2_block3_2_pad[0][0]']     \n",
            "                                                                                                  \n",
            " conv2_block3_2_bn (BatchNormal  (None, 16, 16, 64)  256         ['conv2_block3_2_conv[0][0]']    \n",
            " ization)                                                                                         \n",
            "                                                                                                  \n",
            " conv2_block3_2_relu (Activatio  (None, 16, 16, 64)  0           ['conv2_block3_2_bn[0][0]']      \n",
            " n)                                                                                               \n",
            "                                                                                                  \n",
            " max_pooling2d_3 (MaxPooling2D)  (None, 16, 16, 256)  0          ['conv2_block2_out[0][0]']       \n",
            "                                                                                                  \n",
            " conv2_block3_3_conv (Conv2D)   (None, 16, 16, 256)  16640       ['conv2_block3_2_relu[0][0]']    \n",
            "                                                                                                  \n",
            " conv2_block3_out (Add)         (None, 16, 16, 256)  0           ['max_pooling2d_3[0][0]',        \n",
            "                                                                  'conv2_block3_3_conv[0][0]']    \n",
            "                                                                                                  \n",
            " conv3_block1_preact_bn (BatchN  (None, 16, 16, 256)  1024       ['conv2_block3_out[0][0]']       \n",
            " ormalization)                                                                                    \n",
            "                                                                                                  \n",
            " conv3_block1_preact_relu (Acti  (None, 16, 16, 256)  0          ['conv3_block1_preact_bn[0][0]'] \n",
            " vation)                                                                                          \n",
            "                                                                                                  \n",
            " conv3_block1_1_conv (Conv2D)   (None, 16, 16, 128)  32768       ['conv3_block1_preact_relu[0][0]'\n",
            "                                                                 ]                                \n",
            "                                                                                                  \n",
            " conv3_block1_1_bn (BatchNormal  (None, 16, 16, 128)  512        ['conv3_block1_1_conv[0][0]']    \n",
            " ization)                                                                                         \n",
            "                                                                                                  \n",
            " conv3_block1_1_relu (Activatio  (None, 16, 16, 128)  0          ['conv3_block1_1_bn[0][0]']      \n",
            " n)                                                                                               \n",
            "                                                                                                  \n",
            " conv3_block1_2_pad (ZeroPaddin  (None, 18, 18, 128)  0          ['conv3_block1_1_relu[0][0]']    \n",
            " g2D)                                                                                             \n",
            "                                                                                                  \n",
            " conv3_block1_2_conv (Conv2D)   (None, 16, 16, 128)  147456      ['conv3_block1_2_pad[0][0]']     \n",
            "                                                                                                  \n",
            " conv3_block1_2_bn (BatchNormal  (None, 16, 16, 128)  512        ['conv3_block1_2_conv[0][0]']    \n",
            " ization)                                                                                         \n",
            "                                                                                                  \n",
            " conv3_block1_2_relu (Activatio  (None, 16, 16, 128)  0          ['conv3_block1_2_bn[0][0]']      \n",
            " n)                                                                                               \n",
            "                                                                                                  \n",
            " conv3_block1_0_conv (Conv2D)   (None, 16, 16, 512)  131584      ['conv3_block1_preact_relu[0][0]'\n",
            "                                                                 ]                                \n",
            "                                                                                                  \n",
            " conv3_block1_3_conv (Conv2D)   (None, 16, 16, 512)  66048       ['conv3_block1_2_relu[0][0]']    \n",
            "                                                                                                  \n",
            " conv3_block1_out (Add)         (None, 16, 16, 512)  0           ['conv3_block1_0_conv[0][0]',    \n",
            "                                                                  'conv3_block1_3_conv[0][0]']    \n",
            "                                                                                                  \n",
            " conv3_block2_preact_bn (BatchN  (None, 16, 16, 512)  2048       ['conv3_block1_out[0][0]']       \n",
            " ormalization)                                                                                    \n",
            "                                                                                                  \n",
            " conv3_block2_preact_relu (Acti  (None, 16, 16, 512)  0          ['conv3_block2_preact_bn[0][0]'] \n",
            " vation)                                                                                          \n",
            "                                                                                                  \n",
            " conv3_block2_1_conv (Conv2D)   (None, 16, 16, 128)  65536       ['conv3_block2_preact_relu[0][0]'\n",
            "                                                                 ]                                \n",
            "                                                                                                  \n",
            " conv3_block2_1_bn (BatchNormal  (None, 16, 16, 128)  512        ['conv3_block2_1_conv[0][0]']    \n",
            " ization)                                                                                         \n",
            "                                                                                                  \n",
            " conv3_block2_1_relu (Activatio  (None, 16, 16, 128)  0          ['conv3_block2_1_bn[0][0]']      \n",
            " n)                                                                                               \n",
            "                                                                                                  \n",
            " conv3_block2_2_pad (ZeroPaddin  (None, 18, 18, 128)  0          ['conv3_block2_1_relu[0][0]']    \n",
            " g2D)                                                                                             \n",
            "                                                                                                  \n",
            " conv3_block2_2_conv (Conv2D)   (None, 16, 16, 128)  147456      ['conv3_block2_2_pad[0][0]']     \n",
            "                                                                                                  \n",
            " conv3_block2_2_bn (BatchNormal  (None, 16, 16, 128)  512        ['conv3_block2_2_conv[0][0]']    \n",
            " ization)                                                                                         \n",
            "                                                                                                  \n",
            " conv3_block2_2_relu (Activatio  (None, 16, 16, 128)  0          ['conv3_block2_2_bn[0][0]']      \n",
            " n)                                                                                               \n",
            "                                                                                                  \n",
            " conv3_block2_3_conv (Conv2D)   (None, 16, 16, 512)  66048       ['conv3_block2_2_relu[0][0]']    \n",
            "                                                                                                  \n",
            " conv3_block2_out (Add)         (None, 16, 16, 512)  0           ['conv3_block1_out[0][0]',       \n",
            "                                                                  'conv3_block2_3_conv[0][0]']    \n",
            "                                                                                                  \n",
            " conv3_block3_preact_bn (BatchN  (None, 16, 16, 512)  2048       ['conv3_block2_out[0][0]']       \n",
            " ormalization)                                                                                    \n",
            "                                                                                                  \n",
            " conv3_block3_preact_relu (Acti  (None, 16, 16, 512)  0          ['conv3_block3_preact_bn[0][0]'] \n",
            " vation)                                                                                          \n",
            "                                                                                                  \n",
            " conv3_block3_1_conv (Conv2D)   (None, 16, 16, 128)  65536       ['conv3_block3_preact_relu[0][0]'\n",
            "                                                                 ]                                \n",
            "                                                                                                  \n",
            " conv3_block3_1_bn (BatchNormal  (None, 16, 16, 128)  512        ['conv3_block3_1_conv[0][0]']    \n",
            " ization)                                                                                         \n",
            "                                                                                                  \n",
            " conv3_block3_1_relu (Activatio  (None, 16, 16, 128)  0          ['conv3_block3_1_bn[0][0]']      \n",
            " n)                                                                                               \n",
            "                                                                                                  \n",
            " conv3_block3_2_pad (ZeroPaddin  (None, 18, 18, 128)  0          ['conv3_block3_1_relu[0][0]']    \n",
            " g2D)                                                                                             \n",
            "                                                                                                  \n",
            " conv3_block3_2_conv (Conv2D)   (None, 16, 16, 128)  147456      ['conv3_block3_2_pad[0][0]']     \n",
            "                                                                                                  \n",
            " conv3_block3_2_bn (BatchNormal  (None, 16, 16, 128)  512        ['conv3_block3_2_conv[0][0]']    \n",
            " ization)                                                                                         \n",
            "                                                                                                  \n",
            " conv3_block3_2_relu (Activatio  (None, 16, 16, 128)  0          ['conv3_block3_2_bn[0][0]']      \n",
            " n)                                                                                               \n",
            "                                                                                                  \n",
            " conv3_block3_3_conv (Conv2D)   (None, 16, 16, 512)  66048       ['conv3_block3_2_relu[0][0]']    \n",
            "                                                                                                  \n",
            " conv3_block3_out (Add)         (None, 16, 16, 512)  0           ['conv3_block2_out[0][0]',       \n",
            "                                                                  'conv3_block3_3_conv[0][0]']    \n",
            "                                                                                                  \n",
            " conv3_block4_preact_bn (BatchN  (None, 16, 16, 512)  2048       ['conv3_block3_out[0][0]']       \n",
            " ormalization)                                                                                    \n",
            "                                                                                                  \n",
            " conv3_block4_preact_relu (Acti  (None, 16, 16, 512)  0          ['conv3_block4_preact_bn[0][0]'] \n",
            " vation)                                                                                          \n",
            "                                                                                                  \n",
            " conv3_block4_1_conv (Conv2D)   (None, 16, 16, 128)  65536       ['conv3_block4_preact_relu[0][0]'\n",
            "                                                                 ]                                \n",
            "                                                                                                  \n",
            " conv3_block4_1_bn (BatchNormal  (None, 16, 16, 128)  512        ['conv3_block4_1_conv[0][0]']    \n",
            " ization)                                                                                         \n",
            "                                                                                                  \n",
            " conv3_block4_1_relu (Activatio  (None, 16, 16, 128)  0          ['conv3_block4_1_bn[0][0]']      \n",
            " n)                                                                                               \n",
            "                                                                                                  \n",
            " conv3_block4_2_pad (ZeroPaddin  (None, 18, 18, 128)  0          ['conv3_block4_1_relu[0][0]']    \n",
            " g2D)                                                                                             \n",
            "                                                                                                  \n",
            " conv3_block4_2_conv (Conv2D)   (None, 8, 8, 128)    147456      ['conv3_block4_2_pad[0][0]']     \n",
            "                                                                                                  \n",
            " conv3_block4_2_bn (BatchNormal  (None, 8, 8, 128)   512         ['conv3_block4_2_conv[0][0]']    \n",
            " ization)                                                                                         \n",
            "                                                                                                  \n",
            " conv3_block4_2_relu (Activatio  (None, 8, 8, 128)   0           ['conv3_block4_2_bn[0][0]']      \n",
            " n)                                                                                               \n",
            "                                                                                                  \n",
            " max_pooling2d_4 (MaxPooling2D)  (None, 8, 8, 512)   0           ['conv3_block3_out[0][0]']       \n",
            "                                                                                                  \n",
            " conv3_block4_3_conv (Conv2D)   (None, 8, 8, 512)    66048       ['conv3_block4_2_relu[0][0]']    \n",
            "                                                                                                  \n",
            " conv3_block4_out (Add)         (None, 8, 8, 512)    0           ['max_pooling2d_4[0][0]',        \n",
            "                                                                  'conv3_block4_3_conv[0][0]']    \n",
            "                                                                                                  \n",
            " conv4_block1_preact_bn (BatchN  (None, 8, 8, 512)   2048        ['conv3_block4_out[0][0]']       \n",
            " ormalization)                                                                                    \n",
            "                                                                                                  \n",
            " conv4_block1_preact_relu (Acti  (None, 8, 8, 512)   0           ['conv4_block1_preact_bn[0][0]'] \n",
            " vation)                                                                                          \n",
            "                                                                                                  \n",
            " conv4_block1_1_conv (Conv2D)   (None, 8, 8, 256)    131072      ['conv4_block1_preact_relu[0][0]'\n",
            "                                                                 ]                                \n",
            "                                                                                                  \n",
            " conv4_block1_1_bn (BatchNormal  (None, 8, 8, 256)   1024        ['conv4_block1_1_conv[0][0]']    \n",
            " ization)                                                                                         \n",
            "                                                                                                  \n",
            " conv4_block1_1_relu (Activatio  (None, 8, 8, 256)   0           ['conv4_block1_1_bn[0][0]']      \n",
            " n)                                                                                               \n",
            "                                                                                                  \n",
            " conv4_block1_2_pad (ZeroPaddin  (None, 10, 10, 256)  0          ['conv4_block1_1_relu[0][0]']    \n",
            " g2D)                                                                                             \n",
            "                                                                                                  \n",
            " conv4_block1_2_conv (Conv2D)   (None, 8, 8, 256)    589824      ['conv4_block1_2_pad[0][0]']     \n",
            "                                                                                                  \n",
            " conv4_block1_2_bn (BatchNormal  (None, 8, 8, 256)   1024        ['conv4_block1_2_conv[0][0]']    \n",
            " ization)                                                                                         \n",
            "                                                                                                  \n",
            " conv4_block1_2_relu (Activatio  (None, 8, 8, 256)   0           ['conv4_block1_2_bn[0][0]']      \n",
            " n)                                                                                               \n",
            "                                                                                                  \n",
            " conv4_block1_0_conv (Conv2D)   (None, 8, 8, 1024)   525312      ['conv4_block1_preact_relu[0][0]'\n",
            "                                                                 ]                                \n",
            "                                                                                                  \n",
            " conv4_block1_3_conv (Conv2D)   (None, 8, 8, 1024)   263168      ['conv4_block1_2_relu[0][0]']    \n",
            "                                                                                                  \n",
            " conv4_block1_out (Add)         (None, 8, 8, 1024)   0           ['conv4_block1_0_conv[0][0]',    \n",
            "                                                                  'conv4_block1_3_conv[0][0]']    \n",
            "                                                                                                  \n",
            " conv4_block2_preact_bn (BatchN  (None, 8, 8, 1024)  4096        ['conv4_block1_out[0][0]']       \n",
            " ormalization)                                                                                    \n",
            "                                                                                                  \n",
            " conv4_block2_preact_relu (Acti  (None, 8, 8, 1024)  0           ['conv4_block2_preact_bn[0][0]'] \n",
            " vation)                                                                                          \n",
            "                                                                                                  \n",
            " conv4_block2_1_conv (Conv2D)   (None, 8, 8, 256)    262144      ['conv4_block2_preact_relu[0][0]'\n",
            "                                                                 ]                                \n",
            "                                                                                                  \n",
            " conv4_block2_1_bn (BatchNormal  (None, 8, 8, 256)   1024        ['conv4_block2_1_conv[0][0]']    \n",
            " ization)                                                                                         \n",
            "                                                                                                  \n",
            " conv4_block2_1_relu (Activatio  (None, 8, 8, 256)   0           ['conv4_block2_1_bn[0][0]']      \n",
            " n)                                                                                               \n",
            "                                                                                                  \n",
            " conv4_block2_2_pad (ZeroPaddin  (None, 10, 10, 256)  0          ['conv4_block2_1_relu[0][0]']    \n",
            " g2D)                                                                                             \n",
            "                                                                                                  \n",
            " conv4_block2_2_conv (Conv2D)   (None, 8, 8, 256)    589824      ['conv4_block2_2_pad[0][0]']     \n",
            "                                                                                                  \n",
            " conv4_block2_2_bn (BatchNormal  (None, 8, 8, 256)   1024        ['conv4_block2_2_conv[0][0]']    \n",
            " ization)                                                                                         \n",
            "                                                                                                  \n",
            " conv4_block2_2_relu (Activatio  (None, 8, 8, 256)   0           ['conv4_block2_2_bn[0][0]']      \n",
            " n)                                                                                               \n",
            "                                                                                                  \n",
            " conv4_block2_3_conv (Conv2D)   (None, 8, 8, 1024)   263168      ['conv4_block2_2_relu[0][0]']    \n",
            "                                                                                                  \n",
            " conv4_block2_out (Add)         (None, 8, 8, 1024)   0           ['conv4_block1_out[0][0]',       \n",
            "                                                                  'conv4_block2_3_conv[0][0]']    \n",
            "                                                                                                  \n",
            " conv4_block3_preact_bn (BatchN  (None, 8, 8, 1024)  4096        ['conv4_block2_out[0][0]']       \n",
            " ormalization)                                                                                    \n",
            "                                                                                                  \n",
            " conv4_block3_preact_relu (Acti  (None, 8, 8, 1024)  0           ['conv4_block3_preact_bn[0][0]'] \n",
            " vation)                                                                                          \n",
            "                                                                                                  \n",
            " conv4_block3_1_conv (Conv2D)   (None, 8, 8, 256)    262144      ['conv4_block3_preact_relu[0][0]'\n",
            "                                                                 ]                                \n",
            "                                                                                                  \n",
            " conv4_block3_1_bn (BatchNormal  (None, 8, 8, 256)   1024        ['conv4_block3_1_conv[0][0]']    \n",
            " ization)                                                                                         \n",
            "                                                                                                  \n",
            " conv4_block3_1_relu (Activatio  (None, 8, 8, 256)   0           ['conv4_block3_1_bn[0][0]']      \n",
            " n)                                                                                               \n",
            "                                                                                                  \n",
            " conv4_block3_2_pad (ZeroPaddin  (None, 10, 10, 256)  0          ['conv4_block3_1_relu[0][0]']    \n",
            " g2D)                                                                                             \n",
            "                                                                                                  \n",
            " conv4_block3_2_conv (Conv2D)   (None, 8, 8, 256)    589824      ['conv4_block3_2_pad[0][0]']     \n",
            "                                                                                                  \n",
            " conv4_block3_2_bn (BatchNormal  (None, 8, 8, 256)   1024        ['conv4_block3_2_conv[0][0]']    \n",
            " ization)                                                                                         \n",
            "                                                                                                  \n",
            " conv4_block3_2_relu (Activatio  (None, 8, 8, 256)   0           ['conv4_block3_2_bn[0][0]']      \n",
            " n)                                                                                               \n",
            "                                                                                                  \n",
            " conv4_block3_3_conv (Conv2D)   (None, 8, 8, 1024)   263168      ['conv4_block3_2_relu[0][0]']    \n",
            "                                                                                                  \n",
            " conv4_block3_out (Add)         (None, 8, 8, 1024)   0           ['conv4_block2_out[0][0]',       \n",
            "                                                                  'conv4_block3_3_conv[0][0]']    \n",
            "                                                                                                  \n",
            " conv4_block4_preact_bn (BatchN  (None, 8, 8, 1024)  4096        ['conv4_block3_out[0][0]']       \n",
            " ormalization)                                                                                    \n",
            "                                                                                                  \n",
            " conv4_block4_preact_relu (Acti  (None, 8, 8, 1024)  0           ['conv4_block4_preact_bn[0][0]'] \n",
            " vation)                                                                                          \n",
            "                                                                                                  \n",
            " conv4_block4_1_conv (Conv2D)   (None, 8, 8, 256)    262144      ['conv4_block4_preact_relu[0][0]'\n",
            "                                                                 ]                                \n",
            "                                                                                                  \n",
            " conv4_block4_1_bn (BatchNormal  (None, 8, 8, 256)   1024        ['conv4_block4_1_conv[0][0]']    \n",
            " ization)                                                                                         \n",
            "                                                                                                  \n",
            " conv4_block4_1_relu (Activatio  (None, 8, 8, 256)   0           ['conv4_block4_1_bn[0][0]']      \n",
            " n)                                                                                               \n",
            "                                                                                                  \n",
            " conv4_block4_2_pad (ZeroPaddin  (None, 10, 10, 256)  0          ['conv4_block4_1_relu[0][0]']    \n",
            " g2D)                                                                                             \n",
            "                                                                                                  \n",
            " conv4_block4_2_conv (Conv2D)   (None, 8, 8, 256)    589824      ['conv4_block4_2_pad[0][0]']     \n",
            "                                                                                                  \n",
            " conv4_block4_2_bn (BatchNormal  (None, 8, 8, 256)   1024        ['conv4_block4_2_conv[0][0]']    \n",
            " ization)                                                                                         \n",
            "                                                                                                  \n",
            " conv4_block4_2_relu (Activatio  (None, 8, 8, 256)   0           ['conv4_block4_2_bn[0][0]']      \n",
            " n)                                                                                               \n",
            "                                                                                                  \n",
            " conv4_block4_3_conv (Conv2D)   (None, 8, 8, 1024)   263168      ['conv4_block4_2_relu[0][0]']    \n",
            "                                                                                                  \n",
            " conv4_block4_out (Add)         (None, 8, 8, 1024)   0           ['conv4_block3_out[0][0]',       \n",
            "                                                                  'conv4_block4_3_conv[0][0]']    \n",
            "                                                                                                  \n",
            " conv4_block5_preact_bn (BatchN  (None, 8, 8, 1024)  4096        ['conv4_block4_out[0][0]']       \n",
            " ormalization)                                                                                    \n",
            "                                                                                                  \n",
            " conv4_block5_preact_relu (Acti  (None, 8, 8, 1024)  0           ['conv4_block5_preact_bn[0][0]'] \n",
            " vation)                                                                                          \n",
            "                                                                                                  \n",
            " conv4_block5_1_conv (Conv2D)   (None, 8, 8, 256)    262144      ['conv4_block5_preact_relu[0][0]'\n",
            "                                                                 ]                                \n",
            "                                                                                                  \n",
            " conv4_block5_1_bn (BatchNormal  (None, 8, 8, 256)   1024        ['conv4_block5_1_conv[0][0]']    \n",
            " ization)                                                                                         \n",
            "                                                                                                  \n",
            " conv4_block5_1_relu (Activatio  (None, 8, 8, 256)   0           ['conv4_block5_1_bn[0][0]']      \n",
            " n)                                                                                               \n",
            "                                                                                                  \n",
            " conv4_block5_2_pad (ZeroPaddin  (None, 10, 10, 256)  0          ['conv4_block5_1_relu[0][0]']    \n",
            " g2D)                                                                                             \n",
            "                                                                                                  \n",
            " conv4_block5_2_conv (Conv2D)   (None, 8, 8, 256)    589824      ['conv4_block5_2_pad[0][0]']     \n",
            "                                                                                                  \n",
            " conv4_block5_2_bn (BatchNormal  (None, 8, 8, 256)   1024        ['conv4_block5_2_conv[0][0]']    \n",
            " ization)                                                                                         \n",
            "                                                                                                  \n",
            " conv4_block5_2_relu (Activatio  (None, 8, 8, 256)   0           ['conv4_block5_2_bn[0][0]']      \n",
            " n)                                                                                               \n",
            "                                                                                                  \n",
            " conv4_block5_3_conv (Conv2D)   (None, 8, 8, 1024)   263168      ['conv4_block5_2_relu[0][0]']    \n",
            "                                                                                                  \n",
            " conv4_block5_out (Add)         (None, 8, 8, 1024)   0           ['conv4_block4_out[0][0]',       \n",
            "                                                                  'conv4_block5_3_conv[0][0]']    \n",
            "                                                                                                  \n",
            " conv4_block6_preact_bn (BatchN  (None, 8, 8, 1024)  4096        ['conv4_block5_out[0][0]']       \n",
            " ormalization)                                                                                    \n",
            "                                                                                                  \n",
            " conv4_block6_preact_relu (Acti  (None, 8, 8, 1024)  0           ['conv4_block6_preact_bn[0][0]'] \n",
            " vation)                                                                                          \n",
            "                                                                                                  \n",
            " conv4_block6_1_conv (Conv2D)   (None, 8, 8, 256)    262144      ['conv4_block6_preact_relu[0][0]'\n",
            "                                                                 ]                                \n",
            "                                                                                                  \n",
            " conv4_block6_1_bn (BatchNormal  (None, 8, 8, 256)   1024        ['conv4_block6_1_conv[0][0]']    \n",
            " ization)                                                                                         \n",
            "                                                                                                  \n",
            " conv4_block6_1_relu (Activatio  (None, 8, 8, 256)   0           ['conv4_block6_1_bn[0][0]']      \n",
            " n)                                                                                               \n",
            "                                                                                                  \n",
            " conv4_block6_2_pad (ZeroPaddin  (None, 10, 10, 256)  0          ['conv4_block6_1_relu[0][0]']    \n",
            " g2D)                                                                                             \n",
            "                                                                                                  \n",
            " conv4_block6_2_conv (Conv2D)   (None, 4, 4, 256)    589824      ['conv4_block6_2_pad[0][0]']     \n",
            "                                                                                                  \n",
            " conv4_block6_2_bn (BatchNormal  (None, 4, 4, 256)   1024        ['conv4_block6_2_conv[0][0]']    \n",
            " ization)                                                                                         \n",
            "                                                                                                  \n",
            " conv4_block6_2_relu (Activatio  (None, 4, 4, 256)   0           ['conv4_block6_2_bn[0][0]']      \n",
            " n)                                                                                               \n",
            "                                                                                                  \n",
            " max_pooling2d_5 (MaxPooling2D)  (None, 4, 4, 1024)  0           ['conv4_block5_out[0][0]']       \n",
            "                                                                                                  \n",
            " conv4_block6_3_conv (Conv2D)   (None, 4, 4, 1024)   263168      ['conv4_block6_2_relu[0][0]']    \n",
            "                                                                                                  \n",
            " conv4_block6_out (Add)         (None, 4, 4, 1024)   0           ['max_pooling2d_5[0][0]',        \n",
            "                                                                  'conv4_block6_3_conv[0][0]']    \n",
            "                                                                                                  \n",
            " conv5_block1_preact_bn (BatchN  (None, 4, 4, 1024)  4096        ['conv4_block6_out[0][0]']       \n",
            " ormalization)                                                                                    \n",
            "                                                                                                  \n",
            " conv5_block1_preact_relu (Acti  (None, 4, 4, 1024)  0           ['conv5_block1_preact_bn[0][0]'] \n",
            " vation)                                                                                          \n",
            "                                                                                                  \n",
            " conv5_block1_1_conv (Conv2D)   (None, 4, 4, 512)    524288      ['conv5_block1_preact_relu[0][0]'\n",
            "                                                                 ]                                \n",
            "                                                                                                  \n",
            " conv5_block1_1_bn (BatchNormal  (None, 4, 4, 512)   2048        ['conv5_block1_1_conv[0][0]']    \n",
            " ization)                                                                                         \n",
            "                                                                                                  \n",
            " conv5_block1_1_relu (Activatio  (None, 4, 4, 512)   0           ['conv5_block1_1_bn[0][0]']      \n",
            " n)                                                                                               \n",
            "                                                                                                  \n",
            " conv5_block1_2_pad (ZeroPaddin  (None, 6, 6, 512)   0           ['conv5_block1_1_relu[0][0]']    \n",
            " g2D)                                                                                             \n",
            "                                                                                                  \n",
            " conv5_block1_2_conv (Conv2D)   (None, 4, 4, 512)    2359296     ['conv5_block1_2_pad[0][0]']     \n",
            "                                                                                                  \n",
            " conv5_block1_2_bn (BatchNormal  (None, 4, 4, 512)   2048        ['conv5_block1_2_conv[0][0]']    \n",
            " ization)                                                                                         \n",
            "                                                                                                  \n",
            " conv5_block1_2_relu (Activatio  (None, 4, 4, 512)   0           ['conv5_block1_2_bn[0][0]']      \n",
            " n)                                                                                               \n",
            "                                                                                                  \n",
            " conv5_block1_0_conv (Conv2D)   (None, 4, 4, 2048)   2099200     ['conv5_block1_preact_relu[0][0]'\n",
            "                                                                 ]                                \n",
            "                                                                                                  \n",
            " conv5_block1_3_conv (Conv2D)   (None, 4, 4, 2048)   1050624     ['conv5_block1_2_relu[0][0]']    \n",
            "                                                                                                  \n",
            " conv5_block1_out (Add)         (None, 4, 4, 2048)   0           ['conv5_block1_0_conv[0][0]',    \n",
            "                                                                  'conv5_block1_3_conv[0][0]']    \n",
            "                                                                                                  \n",
            " conv5_block2_preact_bn (BatchN  (None, 4, 4, 2048)  8192        ['conv5_block1_out[0][0]']       \n",
            " ormalization)                                                                                    \n",
            "                                                                                                  \n",
            " conv5_block2_preact_relu (Acti  (None, 4, 4, 2048)  0           ['conv5_block2_preact_bn[0][0]'] \n",
            " vation)                                                                                          \n",
            "                                                                                                  \n",
            " conv5_block2_1_conv (Conv2D)   (None, 4, 4, 512)    1048576     ['conv5_block2_preact_relu[0][0]'\n",
            "                                                                 ]                                \n",
            "                                                                                                  \n",
            " conv5_block2_1_bn (BatchNormal  (None, 4, 4, 512)   2048        ['conv5_block2_1_conv[0][0]']    \n",
            " ization)                                                                                         \n",
            "                                                                                                  \n",
            " conv5_block2_1_relu (Activatio  (None, 4, 4, 512)   0           ['conv5_block2_1_bn[0][0]']      \n",
            " n)                                                                                               \n",
            "                                                                                                  \n",
            " conv5_block2_2_pad (ZeroPaddin  (None, 6, 6, 512)   0           ['conv5_block2_1_relu[0][0]']    \n",
            " g2D)                                                                                             \n",
            "                                                                                                  \n",
            " conv5_block2_2_conv (Conv2D)   (None, 4, 4, 512)    2359296     ['conv5_block2_2_pad[0][0]']     \n",
            "                                                                                                  \n",
            " conv5_block2_2_bn (BatchNormal  (None, 4, 4, 512)   2048        ['conv5_block2_2_conv[0][0]']    \n",
            " ization)                                                                                         \n",
            "                                                                                                  \n",
            " conv5_block2_2_relu (Activatio  (None, 4, 4, 512)   0           ['conv5_block2_2_bn[0][0]']      \n",
            " n)                                                                                               \n",
            "                                                                                                  \n",
            " conv5_block2_3_conv (Conv2D)   (None, 4, 4, 2048)   1050624     ['conv5_block2_2_relu[0][0]']    \n",
            "                                                                                                  \n",
            " conv5_block2_out (Add)         (None, 4, 4, 2048)   0           ['conv5_block1_out[0][0]',       \n",
            "                                                                  'conv5_block2_3_conv[0][0]']    \n",
            "                                                                                                  \n",
            " conv5_block3_preact_bn (BatchN  (None, 4, 4, 2048)  8192        ['conv5_block2_out[0][0]']       \n",
            " ormalization)                                                                                    \n",
            "                                                                                                  \n",
            " conv5_block3_preact_relu (Acti  (None, 4, 4, 2048)  0           ['conv5_block3_preact_bn[0][0]'] \n",
            " vation)                                                                                          \n",
            "                                                                                                  \n",
            " conv5_block3_1_conv (Conv2D)   (None, 4, 4, 512)    1048576     ['conv5_block3_preact_relu[0][0]'\n",
            "                                                                 ]                                \n",
            "                                                                                                  \n",
            " conv5_block3_1_bn (BatchNormal  (None, 4, 4, 512)   2048        ['conv5_block3_1_conv[0][0]']    \n",
            " ization)                                                                                         \n",
            "                                                                                                  \n",
            " conv5_block3_1_relu (Activatio  (None, 4, 4, 512)   0           ['conv5_block3_1_bn[0][0]']      \n",
            " n)                                                                                               \n",
            "                                                                                                  \n",
            " conv5_block3_2_pad (ZeroPaddin  (None, 6, 6, 512)   0           ['conv5_block3_1_relu[0][0]']    \n",
            " g2D)                                                                                             \n",
            "                                                                                                  \n",
            " conv5_block3_2_conv (Conv2D)   (None, 4, 4, 512)    2359296     ['conv5_block3_2_pad[0][0]']     \n",
            "                                                                                                  \n",
            " conv5_block3_2_bn (BatchNormal  (None, 4, 4, 512)   2048        ['conv5_block3_2_conv[0][0]']    \n",
            " ization)                                                                                         \n",
            "                                                                                                  \n",
            " conv5_block3_2_relu (Activatio  (None, 4, 4, 512)   0           ['conv5_block3_2_bn[0][0]']      \n",
            " n)                                                                                               \n",
            "                                                                                                  \n",
            " conv5_block3_3_conv (Conv2D)   (None, 4, 4, 2048)   1050624     ['conv5_block3_2_relu[0][0]']    \n",
            "                                                                                                  \n",
            " conv5_block3_out (Add)         (None, 4, 4, 2048)   0           ['conv5_block2_out[0][0]',       \n",
            "                                                                  'conv5_block3_3_conv[0][0]']    \n",
            "                                                                                                  \n",
            " post_bn (BatchNormalization)   (None, 4, 4, 2048)   8192        ['conv5_block3_out[0][0]']       \n",
            "                                                                                                  \n",
            " post_relu (Activation)         (None, 4, 4, 2048)   0           ['post_bn[0][0]']                \n",
            "                                                                                                  \n",
            "==================================================================================================\n",
            "Total params: 23,564,800\n",
            "Trainable params: 23,519,360\n",
            "Non-trainable params: 45,440\n",
            "__________________________________________________________________________________________________\n"
          ]
        }
      ]
    },
    {
      "cell_type": "code",
      "source": [
        "# first: train only top layers (which were randomly initialized) step 1!\n",
        "model_base.trainable = False"
      ],
      "metadata": {
        "id": "d71-8h_Gmvxp"
      },
      "execution_count": 62,
      "outputs": []
    },
    {
      "cell_type": "code",
      "source": [
        "model = M.Sequential()\n",
        "model.add(model_base)\n",
        "model.add(L.GlobalAveragePooling2D(),)\n",
        "model.add(L.Dense(102, activation='softmax'))"
      ],
      "metadata": {
        "id": "du3BX0CXHX44"
      },
      "execution_count": 63,
      "outputs": []
    },
    {
      "cell_type": "code",
      "source": [
        "model.summary()"
      ],
      "metadata": {
        "id": "t3UxYT74k3cT",
        "colab": {
          "base_uri": "https://localhost:8080/"
        },
        "outputId": "75cfefa0-f626-49f1-c9b0-3833c84f15c8"
      },
      "execution_count": 64,
      "outputs": [
        {
          "output_type": "stream",
          "name": "stdout",
          "text": [
            "Model: \"sequential_1\"\n",
            "_________________________________________________________________\n",
            " Layer (type)                Output Shape              Param #   \n",
            "=================================================================\n",
            " resnet50v2 (Functional)     (None, 4, 4, 2048)        23564800  \n",
            "                                                                 \n",
            " global_average_pooling2d_1   (None, 2048)             0         \n",
            " (GlobalAveragePooling2D)                                        \n",
            "                                                                 \n",
            " dense_1 (Dense)             (None, 102)               208998    \n",
            "                                                                 \n",
            "=================================================================\n",
            "Total params: 23,773,798\n",
            "Trainable params: 208,998\n",
            "Non-trainable params: 23,564,800\n",
            "_________________________________________________________________\n"
          ]
        }
      ]
    },
    {
      "cell_type": "code",
      "source": [
        "len(model.layers)"
      ],
      "metadata": {
        "colab": {
          "base_uri": "https://localhost:8080/"
        },
        "id": "trnLp6tsnOae",
        "outputId": "dbd71704-96c5-4069-f0c5-9821c2456f27"
      },
      "execution_count": 65,
      "outputs": [
        {
          "output_type": "execute_result",
          "data": {
            "text/plain": [
              "3"
            ]
          },
          "metadata": {},
          "execution_count": 65
        }
      ]
    },
    {
      "cell_type": "code",
      "source": [
        "len(model.trainable_variables)"
      ],
      "metadata": {
        "colab": {
          "base_uri": "https://localhost:8080/"
        },
        "id": "B950liCFnRRb",
        "outputId": "0fec84ca-d0d5-4cb7-dd6a-09aedb9a9258"
      },
      "execution_count": 66,
      "outputs": [
        {
          "output_type": "execute_result",
          "data": {
            "text/plain": [
              "2"
            ]
          },
          "metadata": {},
          "execution_count": 66
        }
      ]
    },
    {
      "cell_type": "code",
      "source": [
        "for layer in model.layers:\n",
        "  print(layer, layer.trainable)"
      ],
      "metadata": {
        "colab": {
          "base_uri": "https://localhost:8080/"
        },
        "id": "JefLfF7mnjie",
        "outputId": "83ba06eb-fab9-4e5c-a2f4-0f5349054253"
      },
      "execution_count": 67,
      "outputs": [
        {
          "output_type": "stream",
          "name": "stdout",
          "text": [
            "<keras.engine.functional.Functional object at 0x7fd5f0459e50> False\n",
            "<keras.layers.pooling.GlobalAveragePooling2D object at 0x7fd5f03dad90> True\n",
            "<keras.layers.core.dense.Dense object at 0x7fd5f05319d0> True\n"
          ]
        }
      ]
    },
    {
      "cell_type": "markdown",
      "source": [
        "# Fit\n"
      ],
      "metadata": {
        "id": "_Qb4rJMQnfZj"
      }
    },
    {
      "cell_type": "markdown",
      "source": [
        "# step 1"
      ],
      "metadata": {
        "id": "HIvxKvYbpO66"
      }
    },
    {
      "cell_type": "code",
      "source": [
        "LR = 0.001\n",
        "model.compile(loss=\"categorical_crossentropy\", optimizer=optimizers.Adamax(learning_rate=LR), metrics=[\"accuracy\"])"
      ],
      "metadata": {
        "id": "uXmXaAGmHkaj"
      },
      "execution_count": 68,
      "outputs": []
    },
    {
      "cell_type": "code",
      "source": [
        "checkpoint = ModelCheckpoint('best_model.hdf5' , monitor = ['val_accuracy'] , verbose = 1  , mode = 'max')\n",
        "earlystop = EarlyStopping(monitor='val_accuracy', patience=5, restore_best_weights=True)\n",
        "callbacks_list = [checkpoint, earlystop]"
      ],
      "metadata": {
        "id": "sH6qFeTiHoYq"
      },
      "execution_count": 69,
      "outputs": []
    },
    {
      "cell_type": "code",
      "source": [
        "scores = model.evaluate(test_generator, steps=1, verbose=1)\n",
        "print(\"Accuracy: %.2f%%\" % (scores[1]*100))"
      ],
      "metadata": {
        "colab": {
          "base_uri": "https://localhost:8080/"
        },
        "id": "GYVvF9y2HqTH",
        "outputId": "3b957e97-aa13-4c08-b719-5ba4cdc1232a"
      },
      "execution_count": 70,
      "outputs": [
        {
          "output_type": "stream",
          "name": "stdout",
          "text": [
            "1/1 [==============================] - 2s 2s/step - loss: 5.9450 - accuracy: 0.0234\n",
            "Accuracy: 2.34%\n"
          ]
        }
      ]
    },
    {
      "cell_type": "code",
      "source": [
        "history = model.fit(\n",
        "        train_generator,\n",
        "        steps_per_epoch = train_generator.samples//train_generator.batch_size,\n",
        "        validation_data = test_generator, \n",
        "        validation_steps = test_generator.samples//test_generator.batch_size,\n",
        "        epochs = EPOCHS,\n",
        "        callbacks = callbacks_list,\n",
        ")"
      ],
      "metadata": {
        "colab": {
          "base_uri": "https://localhost:8080/"
        },
        "id": "CBKLYI5DHs-H",
        "outputId": "a65dae04-5c51-479a-fdb8-e0526f087131"
      },
      "execution_count": 71,
      "outputs": [
        {
          "output_type": "stream",
          "name": "stdout",
          "text": [
            "Epoch 1/12\n",
            "51/51 [==============================] - ETA: 0s - loss: 3.8449 - accuracy: 0.1618\n",
            "Epoch 1: saving model to best_model.hdf5\n",
            "51/51 [==============================] - 121s 1s/step - loss: 3.8449 - accuracy: 0.1618 - val_loss: 2.7260 - val_accuracy: 0.3503\n",
            "Epoch 2/12\n",
            "51/51 [==============================] - ETA: 0s - loss: 2.4981 - accuracy: 0.3913\n",
            "Epoch 2: saving model to best_model.hdf5\n",
            "51/51 [==============================] - 62s 1s/step - loss: 2.4981 - accuracy: 0.3913 - val_loss: 2.0908 - val_accuracy: 0.5072\n",
            "Epoch 3/12\n",
            "51/51 [==============================] - ETA: 0s - loss: 2.0366 - accuracy: 0.4985\n",
            "Epoch 3: saving model to best_model.hdf5\n",
            "51/51 [==============================] - 63s 1s/step - loss: 2.0366 - accuracy: 0.4985 - val_loss: 1.7895 - val_accuracy: 0.5872\n",
            "Epoch 4/12\n",
            "51/51 [==============================] - ETA: 0s - loss: 1.7998 - accuracy: 0.5597\n",
            "Epoch 4: saving model to best_model.hdf5\n",
            "51/51 [==============================] - 62s 1s/step - loss: 1.7998 - accuracy: 0.5597 - val_loss: 1.6078 - val_accuracy: 0.6113\n",
            "Epoch 5/12\n",
            "51/51 [==============================] - ETA: 0s - loss: 1.6265 - accuracy: 0.6000\n",
            "Epoch 5: saving model to best_model.hdf5\n",
            "51/51 [==============================] - 62s 1s/step - loss: 1.6265 - accuracy: 0.6000 - val_loss: 1.4818 - val_accuracy: 0.6309\n",
            "Epoch 6/12\n",
            "51/51 [==============================] - ETA: 0s - loss: 1.4974 - accuracy: 0.6281\n",
            "Epoch 6: saving model to best_model.hdf5\n",
            "51/51 [==============================] - 63s 1s/step - loss: 1.4974 - accuracy: 0.6281 - val_loss: 1.3825 - val_accuracy: 0.6582\n",
            "Epoch 7/12\n",
            "51/51 [==============================] - ETA: 0s - loss: 1.3941 - accuracy: 0.6555\n",
            "Epoch 7: saving model to best_model.hdf5\n",
            "51/51 [==============================] - 63s 1s/step - loss: 1.3941 - accuracy: 0.6555 - val_loss: 1.3108 - val_accuracy: 0.6706\n",
            "Epoch 8/12\n",
            "51/51 [==============================] - ETA: 0s - loss: 1.3277 - accuracy: 0.6682\n",
            "Epoch 8: saving model to best_model.hdf5\n",
            "51/51 [==============================] - 64s 1s/step - loss: 1.3277 - accuracy: 0.6682 - val_loss: 1.2473 - val_accuracy: 0.6823\n",
            "Epoch 9/12\n",
            "51/51 [==============================] - ETA: 0s - loss: 1.2716 - accuracy: 0.6771\n",
            "Epoch 9: saving model to best_model.hdf5\n",
            "51/51 [==============================] - 62s 1s/step - loss: 1.2716 - accuracy: 0.6771 - val_loss: 1.1989 - val_accuracy: 0.7018\n",
            "Epoch 10/12\n",
            "51/51 [==============================] - ETA: 0s - loss: 1.2128 - accuracy: 0.6913\n",
            "Epoch 10: saving model to best_model.hdf5\n",
            "51/51 [==============================] - 62s 1s/step - loss: 1.2128 - accuracy: 0.6913 - val_loss: 1.1527 - val_accuracy: 0.7109\n",
            "Epoch 11/12\n",
            "51/51 [==============================] - ETA: 0s - loss: 1.1585 - accuracy: 0.7067\n",
            "Epoch 11: saving model to best_model.hdf5\n",
            "51/51 [==============================] - 63s 1s/step - loss: 1.1585 - accuracy: 0.7067 - val_loss: 1.1198 - val_accuracy: 0.7155\n",
            "Epoch 12/12\n",
            "51/51 [==============================] - ETA: 0s - loss: 1.1371 - accuracy: 0.7078\n",
            "Epoch 12: saving model to best_model.hdf5\n",
            "51/51 [==============================] - 62s 1s/step - loss: 1.1371 - accuracy: 0.7078 - val_loss: 1.0869 - val_accuracy: 0.7285\n"
          ]
        }
      ]
    },
    {
      "cell_type": "code",
      "source": [
        "model.save('data/model_last.hdf5')\n",
        "model.load_weights('best_model.hdf5')"
      ],
      "metadata": {
        "id": "uYMutBqGKD68"
      },
      "execution_count": 72,
      "outputs": []
    },
    {
      "cell_type": "code",
      "source": [
        "scores = model.evaluate_generator(test_generator, verbose=1)\n",
        "print('accuracy: %.2f%%' % (scores[1] * 100))"
      ],
      "metadata": {
        "colab": {
          "base_uri": "https://localhost:8080/"
        },
        "id": "EgfpFI-GoBOY",
        "outputId": "46031f2b-ce53-46ae-c623-e7c34d39d95c"
      },
      "execution_count": 73,
      "outputs": [
        {
          "output_type": "stream",
          "name": "stderr",
          "text": [
            "/usr/local/lib/python3.7/dist-packages/ipykernel_launcher.py:1: UserWarning: `Model.evaluate_generator` is deprecated and will be removed in a future version. Please use `Model.evaluate`, which supports generators.\n",
            "  \"\"\"Entry point for launching an IPython kernel.\n"
          ]
        },
        {
          "output_type": "stream",
          "name": "stdout",
          "text": [
            "13/13 [==============================] - 9s 710ms/step - loss: 1.0885 - accuracy: 0.7277\n",
            "accuracy: 72.77%\n"
          ]
        }
      ]
    },
    {
      "cell_type": "markdown",
      "source": [
        "# step 2"
      ],
      "metadata": {
        "id": "GHrbCJUJpkX2"
      }
    },
    {
      "cell_type": "code",
      "source": [
        "model_base.trainable = True\n",
        "fine_tune_at = 100\n",
        "\n",
        "for layer in model_base.layers[:fine_tune_at]:\n",
        "  layer.trainable = False"
      ],
      "metadata": {
        "id": "83JF9XSMp9kF"
      },
      "execution_count": 74,
      "outputs": []
    },
    {
      "cell_type": "code",
      "source": [
        "len(model_base.trainable_variables)"
      ],
      "metadata": {
        "colab": {
          "base_uri": "https://localhost:8080/"
        },
        "id": "JIQ2LpwPqTx3",
        "outputId": "fa591c20-8647-4d24-f163-4202a1468515"
      },
      "execution_count": 75,
      "outputs": [
        {
          "output_type": "execute_result",
          "data": {
            "text/plain": [
              "82"
            ]
          },
          "metadata": {},
          "execution_count": 75
        }
      ]
    },
    {
      "cell_type": "code",
      "source": [
        "LR = 0.0001\n",
        "model.compile(loss=\"categorical_crossentropy\", optimizer=optimizers.Adamax(learning_rate=LR), metrics=[\"accuracy\"])"
      ],
      "metadata": {
        "id": "fSIK29aKptss"
      },
      "execution_count": 76,
      "outputs": []
    },
    {
      "cell_type": "code",
      "source": [
        "checkpoint = ModelCheckpoint('best_model.hdf5' , monitor = ['val_accuracy'] , verbose = 1  , mode = 'max')\n",
        "earlystop = EarlyStopping(monitor='val_accuracy', patience=5, restore_best_weights=True)\n",
        "callbacks_list = [checkpoint, earlystop]"
      ],
      "metadata": {
        "id": "bEwxeQ36ptsx"
      },
      "execution_count": 77,
      "outputs": []
    },
    {
      "cell_type": "code",
      "source": [
        "scores = model.evaluate(test_generator, steps=1, verbose=1)\n",
        "print(\"Accuracy: %.2f%%\" % (scores[1]*100))"
      ],
      "metadata": {
        "colab": {
          "base_uri": "https://localhost:8080/"
        },
        "outputId": "a3e1ef60-4483-4c11-f1cd-731c95ec32af",
        "id": "-x2eQl5Uptsy"
      },
      "execution_count": 78,
      "outputs": [
        {
          "output_type": "stream",
          "name": "stdout",
          "text": [
            "1/1 [==============================] - 2s 2s/step - loss: 1.0607 - accuracy: 0.7266\n",
            "Accuracy: 72.66%\n"
          ]
        }
      ]
    },
    {
      "cell_type": "code",
      "source": [
        "history = model.fit(\n",
        "        train_generator,\n",
        "        steps_per_epoch = train_generator.samples//train_generator.batch_size,\n",
        "        validation_data = test_generator, \n",
        "        validation_steps = test_generator.samples//test_generator.batch_size,\n",
        "        epochs = 10,\n",
        "        callbacks = callbacks_list,\n",
        ")"
      ],
      "metadata": {
        "colab": {
          "base_uri": "https://localhost:8080/"
        },
        "outputId": "61506540-5de4-4828-d3f0-17338e953a94",
        "id": "jEQwEQfYptsy"
      },
      "execution_count": 79,
      "outputs": [
        {
          "output_type": "stream",
          "name": "stdout",
          "text": [
            "Epoch 1/10\n",
            "51/51 [==============================] - ETA: 0s - loss: 2.0566 - accuracy: 0.5200\n",
            "Epoch 1: saving model to best_model.hdf5\n",
            "51/51 [==============================] - 69s 1s/step - loss: 2.0566 - accuracy: 0.5200 - val_loss: 1.5409 - val_accuracy: 0.5833\n",
            "Epoch 2/10\n",
            "51/51 [==============================] - ETA: 0s - loss: 1.2580 - accuracy: 0.6886\n",
            "Epoch 2: saving model to best_model.hdf5\n",
            "51/51 [==============================] - 65s 1s/step - loss: 1.2580 - accuracy: 0.6886 - val_loss: 1.1598 - val_accuracy: 0.6784\n",
            "Epoch 3/10\n",
            "51/51 [==============================] - ETA: 0s - loss: 0.9583 - accuracy: 0.7619\n",
            "Epoch 3: saving model to best_model.hdf5\n",
            "51/51 [==============================] - 65s 1s/step - loss: 0.9583 - accuracy: 0.7619 - val_loss: 0.8873 - val_accuracy: 0.7572\n",
            "Epoch 4/10\n",
            "51/51 [==============================] - ETA: 0s - loss: 0.8078 - accuracy: 0.7973\n",
            "Epoch 4: saving model to best_model.hdf5\n",
            "51/51 [==============================] - 65s 1s/step - loss: 0.8078 - accuracy: 0.7973 - val_loss: 0.7522 - val_accuracy: 0.7943\n",
            "Epoch 5/10\n",
            "51/51 [==============================] - ETA: 0s - loss: 0.6783 - accuracy: 0.8295\n",
            "Epoch 5: saving model to best_model.hdf5\n",
            "51/51 [==============================] - 65s 1s/step - loss: 0.6783 - accuracy: 0.8295 - val_loss: 0.6687 - val_accuracy: 0.8268\n",
            "Epoch 6/10\n",
            "51/51 [==============================] - ETA: 0s - loss: 0.5883 - accuracy: 0.8537\n",
            "Epoch 6: saving model to best_model.hdf5\n",
            "51/51 [==============================] - 66s 1s/step - loss: 0.5883 - accuracy: 0.8537 - val_loss: 0.6186 - val_accuracy: 0.8346\n",
            "Epoch 7/10\n",
            "51/51 [==============================] - ETA: 0s - loss: 0.5222 - accuracy: 0.8725\n",
            "Epoch 7: saving model to best_model.hdf5\n",
            "51/51 [==============================] - 65s 1s/step - loss: 0.5222 - accuracy: 0.8725 - val_loss: 0.5858 - val_accuracy: 0.8431\n",
            "Epoch 8/10\n",
            "51/51 [==============================] - ETA: 0s - loss: 0.4666 - accuracy: 0.8823\n",
            "Epoch 8: saving model to best_model.hdf5\n",
            "51/51 [==============================] - 64s 1s/step - loss: 0.4666 - accuracy: 0.8823 - val_loss: 0.5535 - val_accuracy: 0.8516\n",
            "Epoch 9/10\n",
            "51/51 [==============================] - ETA: 0s - loss: 0.4228 - accuracy: 0.8966\n",
            "Epoch 9: saving model to best_model.hdf5\n",
            "51/51 [==============================] - 65s 1s/step - loss: 0.4228 - accuracy: 0.8966 - val_loss: 0.5320 - val_accuracy: 0.8568\n",
            "Epoch 10/10\n",
            "51/51 [==============================] - ETA: 0s - loss: 0.3829 - accuracy: 0.9047\n",
            "Epoch 10: saving model to best_model.hdf5\n",
            "51/51 [==============================] - 65s 1s/step - loss: 0.3829 - accuracy: 0.9047 - val_loss: 0.5101 - val_accuracy: 0.8633\n"
          ]
        }
      ]
    },
    {
      "cell_type": "code",
      "source": [
        "model.save('data/model_last.hdf5')\n",
        "model.load_weights('best_model.hdf5')"
      ],
      "metadata": {
        "id": "j7-Kyyrkptsy"
      },
      "execution_count": 80,
      "outputs": []
    },
    {
      "cell_type": "code",
      "source": [
        "scores = model.evaluate_generator(test_generator, verbose=1)\n",
        "print('accuracy: %.2f%%' % (scores[1] * 100))"
      ],
      "metadata": {
        "colab": {
          "base_uri": "https://localhost:8080/"
        },
        "id": "cnCd6z9Xptsy",
        "outputId": "11f330c6-bda9-409d-d379-7c5aadcda958"
      },
      "execution_count": 81,
      "outputs": [
        {
          "output_type": "stream",
          "name": "stderr",
          "text": [
            "/usr/local/lib/python3.7/dist-packages/ipykernel_launcher.py:1: UserWarning: `Model.evaluate_generator` is deprecated and will be removed in a future version. Please use `Model.evaluate`, which supports generators.\n",
            "  \"\"\"Entry point for launching an IPython kernel.\n"
          ]
        },
        {
          "output_type": "stream",
          "name": "stdout",
          "text": [
            "13/13 [==============================] - 8s 593ms/step - loss: 0.5109 - accuracy: 0.8632\n",
            "accuracy: 86.32%\n"
          ]
        }
      ]
    },
    {
      "cell_type": "markdown",
      "source": [
        "# step 3"
      ],
      "metadata": {
        "id": "W4naToIIqzwi"
      }
    },
    {
      "cell_type": "code",
      "source": [
        "model_base.trainable = True\n",
        "fine_tune_at = 50\n",
        "for layer in model_base.layers[:fine_tune_at]:\n",
        "  layer.trainable = False\n",
        "len(model_base.trainable_variables)"
      ],
      "metadata": {
        "colab": {
          "base_uri": "https://localhost:8080/"
        },
        "id": "axT29BQhq6XF",
        "outputId": "fb169a34-871e-4bc2-ed4c-17cdde537a19"
      },
      "execution_count": 82,
      "outputs": [
        {
          "output_type": "execute_result",
          "data": {
            "text/plain": [
              "128"
            ]
          },
          "metadata": {},
          "execution_count": 82
        }
      ]
    },
    {
      "cell_type": "code",
      "source": [
        "LR = 0.00001\n",
        "model.compile(loss=\"categorical_crossentropy\", optimizer=optimizers.Adamax(learning_rate=LR), metrics=[\"accuracy\"])"
      ],
      "metadata": {
        "id": "crliXB65qxvv"
      },
      "execution_count": 83,
      "outputs": []
    },
    {
      "cell_type": "code",
      "source": [
        "checkpoint = ModelCheckpoint('best_model.hdf5' , monitor = ['val_accuracy'] , verbose = 1  , mode = 'max')\n",
        "earlystop = EarlyStopping(monitor='val_accuracy', patience=5, restore_best_weights=True)\n",
        "callbacks_list = [checkpoint, earlystop]"
      ],
      "metadata": {
        "id": "FUTabek3qxvv"
      },
      "execution_count": 84,
      "outputs": []
    },
    {
      "cell_type": "code",
      "source": [
        "scores = model.evaluate(test_generator, steps=1, verbose=1)\n",
        "print(\"Accuracy: %.2f%%\" % (scores[1]*100))"
      ],
      "metadata": {
        "colab": {
          "base_uri": "https://localhost:8080/"
        },
        "outputId": "3a58d831-7ed8-45e1-aaaa-68434c200923",
        "id": "T4w83bC1qxvv"
      },
      "execution_count": 85,
      "outputs": [
        {
          "output_type": "stream",
          "name": "stdout",
          "text": [
            "1/1 [==============================] - 2s 2s/step - loss: 0.4426 - accuracy: 0.8750\n",
            "Accuracy: 87.50%\n"
          ]
        }
      ]
    },
    {
      "cell_type": "code",
      "source": [
        "history = model.fit(\n",
        "        train_generator,\n",
        "        steps_per_epoch = train_generator.samples//train_generator.batch_size,\n",
        "        validation_data = test_generator, \n",
        "        validation_steps = test_generator.samples//test_generator.batch_size,\n",
        "        epochs = 10,\n",
        "        callbacks = callbacks_list,\n",
        ")"
      ],
      "metadata": {
        "colab": {
          "base_uri": "https://localhost:8080/"
        },
        "outputId": "abefb237-7521-4129-e9d5-eb573ed18c3d",
        "id": "Hc5HMVGiqxvv"
      },
      "execution_count": 86,
      "outputs": [
        {
          "output_type": "stream",
          "name": "stdout",
          "text": [
            "Epoch 1/10\n",
            "51/51 [==============================] - ETA: 0s - loss: 0.4304 - accuracy: 0.8912\n",
            "Epoch 1: saving model to best_model.hdf5\n",
            "51/51 [==============================] - 71s 1s/step - loss: 0.4304 - accuracy: 0.8912 - val_loss: 0.5092 - val_accuracy: 0.8607\n",
            "Epoch 2/10\n",
            "51/51 [==============================] - ETA: 0s - loss: 0.4102 - accuracy: 0.8946\n",
            "Epoch 2: saving model to best_model.hdf5\n",
            "51/51 [==============================] - 66s 1s/step - loss: 0.4102 - accuracy: 0.8946 - val_loss: 0.5144 - val_accuracy: 0.8594\n",
            "Epoch 3/10\n",
            "51/51 [==============================] - ETA: 0s - loss: 0.3990 - accuracy: 0.8994\n",
            "Epoch 3: saving model to best_model.hdf5\n",
            "51/51 [==============================] - 66s 1s/step - loss: 0.3990 - accuracy: 0.8994 - val_loss: 0.5175 - val_accuracy: 0.8600\n",
            "Epoch 4/10\n",
            "51/51 [==============================] - ETA: 0s - loss: 0.3866 - accuracy: 0.9044\n",
            "Epoch 4: saving model to best_model.hdf5\n",
            "51/51 [==============================] - 67s 1s/step - loss: 0.3866 - accuracy: 0.9044 - val_loss: 0.5187 - val_accuracy: 0.8600\n",
            "Epoch 5/10\n",
            "51/51 [==============================] - ETA: 0s - loss: 0.3804 - accuracy: 0.9044\n",
            "Epoch 5: saving model to best_model.hdf5\n",
            "51/51 [==============================] - 66s 1s/step - loss: 0.3804 - accuracy: 0.9044 - val_loss: 0.5178 - val_accuracy: 0.8620\n",
            "Epoch 6/10\n",
            "51/51 [==============================] - ETA: 0s - loss: 0.3768 - accuracy: 0.9043\n",
            "Epoch 6: saving model to best_model.hdf5\n",
            "51/51 [==============================] - 66s 1s/step - loss: 0.3768 - accuracy: 0.9043 - val_loss: 0.5180 - val_accuracy: 0.8626\n",
            "Epoch 7/10\n",
            "51/51 [==============================] - ETA: 0s - loss: 0.3584 - accuracy: 0.9117\n",
            "Epoch 7: saving model to best_model.hdf5\n",
            "51/51 [==============================] - 66s 1s/step - loss: 0.3584 - accuracy: 0.9117 - val_loss: 0.5158 - val_accuracy: 0.8639\n",
            "Epoch 8/10\n",
            "51/51 [==============================] - ETA: 0s - loss: 0.3536 - accuracy: 0.9092\n",
            "Epoch 8: saving model to best_model.hdf5\n",
            "51/51 [==============================] - 67s 1s/step - loss: 0.3536 - accuracy: 0.9092 - val_loss: 0.5139 - val_accuracy: 0.8646\n",
            "Epoch 9/10\n",
            "51/51 [==============================] - ETA: 0s - loss: 0.3385 - accuracy: 0.9155\n",
            "Epoch 9: saving model to best_model.hdf5\n",
            "51/51 [==============================] - 66s 1s/step - loss: 0.3385 - accuracy: 0.9155 - val_loss: 0.5115 - val_accuracy: 0.8646\n",
            "Epoch 10/10\n",
            "51/51 [==============================] - ETA: 0s - loss: 0.3380 - accuracy: 0.9155\n",
            "Epoch 10: saving model to best_model.hdf5\n",
            "51/51 [==============================] - 66s 1s/step - loss: 0.3380 - accuracy: 0.9155 - val_loss: 0.5084 - val_accuracy: 0.8646\n"
          ]
        }
      ]
    },
    {
      "cell_type": "code",
      "source": [
        "model.save('data/model_last.hdf5')\n",
        "model.load_weights('best_model.hdf5')"
      ],
      "metadata": {
        "id": "plSgKqEeqxvw"
      },
      "execution_count": 87,
      "outputs": []
    },
    {
      "cell_type": "code",
      "source": [
        "scores = model.evaluate_generator(test_generator, verbose=1)\n",
        "print('accuracy: %.2f%%' % (scores[1] * 100))"
      ],
      "metadata": {
        "colab": {
          "base_uri": "https://localhost:8080/"
        },
        "id": "0alEhHLeqxvw",
        "outputId": "7d1df64b-4fbb-481b-8b2f-e13e6ec050df"
      },
      "execution_count": 88,
      "outputs": [
        {
          "output_type": "stream",
          "name": "stderr",
          "text": [
            "/usr/local/lib/python3.7/dist-packages/ipykernel_launcher.py:1: UserWarning: `Model.evaluate_generator` is deprecated and will be removed in a future version. Please use `Model.evaluate`, which supports generators.\n",
            "  \"\"\"Entry point for launching an IPython kernel.\n"
          ]
        },
        {
          "output_type": "stream",
          "name": "stdout",
          "text": [
            "13/13 [==============================] - 8s 588ms/step - loss: 0.5049 - accuracy: 0.8651\n",
            "accuracy: 86.51%\n"
          ]
        }
      ]
    },
    {
      "cell_type": "code",
      "source": [
        ""
      ],
      "metadata": {
        "id": "37UbCFhyrokE"
      },
      "execution_count": 88,
      "outputs": []
    },
    {
      "cell_type": "markdown",
      "source": [
        "# step 4"
      ],
      "metadata": {
        "id": "6hLbFr6prwxY"
      }
    },
    {
      "cell_type": "code",
      "source": [
        "model_base.trainable = True\n",
        "LR = 0.00001\n",
        "model.compile(loss=\"categorical_crossentropy\", optimizer=optimizers.Adamax(learning_rate=LR), metrics=[\"accuracy\"])"
      ],
      "metadata": {
        "id": "E0uvJ1U4rrCK"
      },
      "execution_count": 89,
      "outputs": []
    },
    {
      "cell_type": "code",
      "source": [
        "checkpoint = ModelCheckpoint('best_model.hdf5' , monitor = ['val_accuracy'] , verbose = 1  , mode = 'max')\n",
        "earlystop = EarlyStopping(monitor='val_accuracy', patience=5, restore_best_weights=True)\n",
        "callbacks_list = [checkpoint, earlystop]"
      ],
      "metadata": {
        "id": "PxYIEfRArrCK"
      },
      "execution_count": 90,
      "outputs": []
    },
    {
      "cell_type": "code",
      "source": [
        "scores = model.evaluate(test_generator, steps=1, verbose=1)\n",
        "print(\"Accuracy: %.2f%%\" % (scores[1]*100))"
      ],
      "metadata": {
        "colab": {
          "base_uri": "https://localhost:8080/"
        },
        "outputId": "cb862e64-df88-4e65-d4ed-17cc4c4e0cb7",
        "id": "f7CUSfTvrrCL"
      },
      "execution_count": 91,
      "outputs": [
        {
          "output_type": "stream",
          "name": "stdout",
          "text": [
            "1/1 [==============================] - 2s 2s/step - loss: 0.4036 - accuracy: 0.8906\n",
            "Accuracy: 89.06%\n"
          ]
        }
      ]
    },
    {
      "cell_type": "code",
      "source": [
        "history = model.fit(\n",
        "        train_generator,\n",
        "        steps_per_epoch = train_generator.samples//train_generator.batch_size,\n",
        "        validation_data = test_generator, \n",
        "        validation_steps = test_generator.samples//test_generator.batch_size,\n",
        "        epochs = 15,\n",
        "        callbacks = callbacks_list,\n",
        ")"
      ],
      "metadata": {
        "colab": {
          "base_uri": "https://localhost:8080/"
        },
        "outputId": "fcd3e4e6-a0b5-4235-b323-bf61ab8a7ef3",
        "id": "ogCRgBiYrrCL"
      },
      "execution_count": 92,
      "outputs": [
        {
          "output_type": "stream",
          "name": "stdout",
          "text": [
            "Epoch 1/15\n",
            "51/51 [==============================] - ETA: 0s - loss: 0.3755 - accuracy: 0.9027\n",
            "Epoch 1: saving model to best_model.hdf5\n",
            "51/51 [==============================] - 75s 1s/step - loss: 0.3755 - accuracy: 0.9027 - val_loss: 0.5372 - val_accuracy: 0.8535\n",
            "Epoch 2/15\n",
            "51/51 [==============================] - ETA: 0s - loss: 0.3469 - accuracy: 0.9141\n",
            "Epoch 2: saving model to best_model.hdf5\n",
            "51/51 [==============================] - 69s 1s/step - loss: 0.3469 - accuracy: 0.9141 - val_loss: 0.5372 - val_accuracy: 0.8490\n",
            "Epoch 3/15\n",
            "51/51 [==============================] - ETA: 0s - loss: 0.3388 - accuracy: 0.9120\n",
            "Epoch 3: saving model to best_model.hdf5\n",
            "51/51 [==============================] - 69s 1s/step - loss: 0.3388 - accuracy: 0.9120 - val_loss: 0.5206 - val_accuracy: 0.8496\n",
            "Epoch 4/15\n",
            "51/51 [==============================] - ETA: 0s - loss: 0.3257 - accuracy: 0.9197\n",
            "Epoch 4: saving model to best_model.hdf5\n",
            "51/51 [==============================] - 69s 1s/step - loss: 0.3257 - accuracy: 0.9197 - val_loss: 0.5112 - val_accuracy: 0.8522\n",
            "Epoch 5/15\n",
            "51/51 [==============================] - ETA: 0s - loss: 0.3130 - accuracy: 0.9226\n",
            "Epoch 5: saving model to best_model.hdf5\n",
            "51/51 [==============================] - 70s 1s/step - loss: 0.3130 - accuracy: 0.9226 - val_loss: 0.5059 - val_accuracy: 0.8509\n",
            "Epoch 6/15\n",
            "51/51 [==============================] - ETA: 0s - loss: 0.3109 - accuracy: 0.9223\n",
            "Epoch 6: saving model to best_model.hdf5\n",
            "51/51 [==============================] - 69s 1s/step - loss: 0.3109 - accuracy: 0.9223 - val_loss: 0.5015 - val_accuracy: 0.8568\n",
            "Epoch 7/15\n",
            "51/51 [==============================] - ETA: 0s - loss: 0.3026 - accuracy: 0.9218\n",
            "Epoch 7: saving model to best_model.hdf5\n",
            "51/51 [==============================] - 69s 1s/step - loss: 0.3026 - accuracy: 0.9218 - val_loss: 0.5016 - val_accuracy: 0.8568\n",
            "Epoch 8/15\n",
            "51/51 [==============================] - ETA: 0s - loss: 0.2948 - accuracy: 0.9250\n",
            "Epoch 8: saving model to best_model.hdf5\n",
            "51/51 [==============================] - 69s 1s/step - loss: 0.2948 - accuracy: 0.9250 - val_loss: 0.4962 - val_accuracy: 0.8639\n",
            "Epoch 9/15\n",
            "51/51 [==============================] - ETA: 0s - loss: 0.3044 - accuracy: 0.9254\n",
            "Epoch 9: saving model to best_model.hdf5\n",
            "51/51 [==============================] - 71s 1s/step - loss: 0.3044 - accuracy: 0.9254 - val_loss: 0.4923 - val_accuracy: 0.8659\n",
            "Epoch 10/15\n",
            "51/51 [==============================] - ETA: 0s - loss: 0.2925 - accuracy: 0.9273\n",
            "Epoch 10: saving model to best_model.hdf5\n",
            "51/51 [==============================] - 69s 1s/step - loss: 0.2925 - accuracy: 0.9273 - val_loss: 0.4869 - val_accuracy: 0.8665\n",
            "Epoch 11/15\n",
            "51/51 [==============================] - ETA: 0s - loss: 0.2816 - accuracy: 0.9276\n",
            "Epoch 11: saving model to best_model.hdf5\n",
            "51/51 [==============================] - 69s 1s/step - loss: 0.2816 - accuracy: 0.9276 - val_loss: 0.4869 - val_accuracy: 0.8652\n",
            "Epoch 12/15\n",
            "51/51 [==============================] - ETA: 0s - loss: 0.2814 - accuracy: 0.9318\n",
            "Epoch 12: saving model to best_model.hdf5\n",
            "51/51 [==============================] - 69s 1s/step - loss: 0.2814 - accuracy: 0.9318 - val_loss: 0.4844 - val_accuracy: 0.8639\n",
            "Epoch 13/15\n",
            "51/51 [==============================] - ETA: 0s - loss: 0.2891 - accuracy: 0.9264\n",
            "Epoch 13: saving model to best_model.hdf5\n",
            "51/51 [==============================] - 70s 1s/step - loss: 0.2891 - accuracy: 0.9264 - val_loss: 0.4827 - val_accuracy: 0.8659\n",
            "Epoch 14/15\n",
            "51/51 [==============================] - ETA: 0s - loss: 0.2652 - accuracy: 0.9349\n",
            "Epoch 14: saving model to best_model.hdf5\n",
            "51/51 [==============================] - 69s 1s/step - loss: 0.2652 - accuracy: 0.9349 - val_loss: 0.4787 - val_accuracy: 0.8639\n",
            "Epoch 15/15\n",
            "51/51 [==============================] - ETA: 0s - loss: 0.2584 - accuracy: 0.9390\n",
            "Epoch 15: saving model to best_model.hdf5\n",
            "51/51 [==============================] - 69s 1s/step - loss: 0.2584 - accuracy: 0.9390 - val_loss: 0.4780 - val_accuracy: 0.8639\n"
          ]
        }
      ]
    },
    {
      "cell_type": "code",
      "source": [
        "model.save('data/model_last.hdf5')\n",
        "model.load_weights('best_model.hdf5')"
      ],
      "metadata": {
        "id": "avTWL_PHrrCL"
      },
      "execution_count": 93,
      "outputs": []
    },
    {
      "cell_type": "code",
      "source": [
        "scores = model.evaluate_generator(test_generator, verbose=1)\n",
        "print('accuracy: %.2f%%' % (scores[1] * 100))"
      ],
      "metadata": {
        "colab": {
          "base_uri": "https://localhost:8080/"
        },
        "id": "bvocMeU1rrCL",
        "outputId": "8c7c3fd8-1f1d-4241-9d40-96de29517af3"
      },
      "execution_count": 94,
      "outputs": [
        {
          "output_type": "stream",
          "name": "stderr",
          "text": [
            "/usr/local/lib/python3.7/dist-packages/ipykernel_launcher.py:1: UserWarning: `Model.evaluate_generator` is deprecated and will be removed in a future version. Please use `Model.evaluate`, which supports generators.\n",
            "  \"\"\"Entry point for launching an IPython kernel.\n"
          ]
        },
        {
          "output_type": "stream",
          "name": "stdout",
          "text": [
            "13/13 [==============================] - 8s 589ms/step - loss: 0.4744 - accuracy: 0.8657\n",
            "accuracy: 86.57%\n"
          ]
        }
      ]
    },
    {
      "cell_type": "markdown",
      "source": [
        "# step 5"
      ],
      "metadata": {
        "id": "ihhwEnedTkai"
      }
    },
    {
      "cell_type": "code",
      "source": [
        "IMG_SIZE = 320\n",
        "IMG_CHANNELS = 3\n",
        "\n",
        "LR = 1e-4\n",
        "BATCH_SIZE = 64"
      ],
      "metadata": {
        "id": "gq4sJsFoTmMG"
      },
      "execution_count": 95,
      "outputs": []
    },
    {
      "cell_type": "code",
      "source": [
        "train_datagen = ImageDataGenerator(rescale=1. / 255,\n",
        "                                  #  rotation_range = 50,\n",
        "                                  #  shear_range=0.2,\n",
        "                                   zoom_range=[0.75, 1.25],\n",
        "                                  #  brightness_range=[0.5, 1.5],\n",
        "                                  #  width_shift_range=0.1,\n",
        "                                  #  height_shift_range=0.1,\n",
        "                                   horizontal_flip=True\n",
        "                                  )\n",
        "\n",
        "test_datagen = ImageDataGenerator(rescale=1. / 255)"
      ],
      "metadata": {
        "id": "8HM6Mf_mUPfB"
      },
      "execution_count": 98,
      "outputs": []
    },
    {
      "cell_type": "code",
      "source": [
        "train_generator = train_datagen.flow_from_dataframe(\n",
        "    dataframe=train_files,\n",
        "    directory=PATH,\n",
        "    x_col=\"Id\",\n",
        "    y_col=\"Category\",\n",
        "    target_size=(IMG_SIZE, IMG_SIZE),\n",
        "    batch_size=BATCH_SIZE,\n",
        "    class_mode='categorical',\n",
        "    shuffle=True, \n",
        "    seed=RANDOM_SEED,)\n",
        "\n",
        "test_generator = test_datagen.flow_from_dataframe(\n",
        "    dataframe=test_files,\n",
        "    directory=PATH,\n",
        "    x_col=\"Id\",\n",
        "    y_col=\"Category\",\n",
        "    target_size=(IMG_SIZE, IMG_SIZE),\n",
        "    batch_size=BATCH_SIZE,\n",
        "    class_mode='categorical',\n",
        "    shuffle=False, \n",
        "    seed=RANDOM_SEED,)"
      ],
      "metadata": {
        "colab": {
          "base_uri": "https://localhost:8080/"
        },
        "outputId": "6cdf8c4e-5bed-4149-bf84-43bdaa4f4fc2",
        "id": "YsVAyno8UPfH"
      },
      "execution_count": 99,
      "outputs": [
        {
          "output_type": "stream",
          "name": "stdout",
          "text": [
            "Found 6551 validated image filenames belonging to 102 classes.\n",
            "Found 1638 validated image filenames belonging to 102 classes.\n"
          ]
        }
      ]
    },
    {
      "cell_type": "code",
      "source": [
        "model_base = keras.applications.ResNet50V2(weights='imagenet', include_top=False, input_shape=input_shape)"
      ],
      "metadata": {
        "id": "tvAMQEf5UPfH"
      },
      "execution_count": 116,
      "outputs": []
    },
    {
      "cell_type": "code",
      "source": [
        "model_base.trainable = True"
      ],
      "metadata": {
        "id": "pwkKXhFKUPfH"
      },
      "execution_count": 118,
      "outputs": []
    },
    {
      "cell_type": "code",
      "source": [
        "model = M.Sequential()\n",
        "model.add(model_base)\n",
        "model.add(L.GlobalAveragePooling2D(),)\n",
        "model.add(L.Dense(102, activation='softmax'))"
      ],
      "metadata": {
        "id": "uC4pY7P1UPfH"
      },
      "execution_count": 119,
      "outputs": []
    },
    {
      "cell_type": "code",
      "source": [
        "model.load_weights('best_model.hdf5')"
      ],
      "metadata": {
        "id": "5hq7TVeyUy8X"
      },
      "execution_count": 120,
      "outputs": []
    },
    {
      "cell_type": "code",
      "source": [
        "model.compile(loss=\"categorical_crossentropy\", optimizer=optimizers.Adamax(learning_rate=LR), metrics=[\"accuracy\"])"
      ],
      "metadata": {
        "id": "u5whUkeSVPys"
      },
      "execution_count": 121,
      "outputs": []
    },
    {
      "cell_type": "code",
      "source": [
        "scores = model.evaluate_generator(test_generator, verbose=1)\n",
        "print('accuracy: %.2f%%' % (scores[1] * 100))"
      ],
      "metadata": {
        "colab": {
          "base_uri": "https://localhost:8080/"
        },
        "id": "qliPSXCnU4-f",
        "outputId": "830f62ed-1db7-4ef3-e0f2-8e6072d4cd6f"
      },
      "execution_count": 122,
      "outputs": [
        {
          "output_type": "stream",
          "name": "stderr",
          "text": [
            "/usr/local/lib/python3.7/dist-packages/ipykernel_launcher.py:1: UserWarning: `Model.evaluate_generator` is deprecated and will be removed in a future version. Please use `Model.evaluate`, which supports generators.\n",
            "  \"\"\"Entry point for launching an IPython kernel.\n"
          ]
        },
        {
          "output_type": "stream",
          "name": "stdout",
          "text": [
            "26/26 [==============================] - 14s 464ms/step - loss: 2.8967 - accuracy: 0.5433\n",
            "accuracy: 54.33%\n"
          ]
        }
      ]
    },
    {
      "cell_type": "code",
      "source": [
        "history = model.fit(\n",
        "        train_generator,\n",
        "        steps_per_epoch = train_generator.samples//train_generator.batch_size,\n",
        "        validation_data = test_generator, \n",
        "        validation_steps = test_generator.samples//test_generator.batch_size,\n",
        "        epochs = 10,\n",
        "        callbacks = callbacks_list,\n",
        ")"
      ],
      "metadata": {
        "colab": {
          "base_uri": "https://localhost:8080/"
        },
        "id": "3m2I8YwXVXNy",
        "outputId": "d3e24248-4f26-4285-bfdd-53f6af511909"
      },
      "execution_count": 123,
      "outputs": [
        {
          "output_type": "stream",
          "name": "stdout",
          "text": [
            "Epoch 1/10\n",
            "102/102 [==============================] - ETA: 0s - loss: 0.3985 - accuracy: 0.9243\n",
            "Epoch 1: saving model to best_model.hdf5\n",
            "102/102 [==============================] - 222s 2s/step - loss: 0.3985 - accuracy: 0.9243 - val_loss: 0.2986 - val_accuracy: 0.9294\n",
            "Epoch 2/10\n",
            "102/102 [==============================] - ETA: 0s - loss: 0.1239 - accuracy: 0.9824\n",
            "Epoch 2: saving model to best_model.hdf5\n",
            "102/102 [==============================] - 209s 2s/step - loss: 0.1239 - accuracy: 0.9824 - val_loss: 0.1770 - val_accuracy: 0.9575\n",
            "Epoch 3/10\n",
            "102/102 [==============================] - ETA: 0s - loss: 0.0711 - accuracy: 0.9928\n",
            "Epoch 3: saving model to best_model.hdf5\n",
            "102/102 [==============================] - 211s 2s/step - loss: 0.0711 - accuracy: 0.9928 - val_loss: 0.1532 - val_accuracy: 0.9619\n",
            "Epoch 4/10\n",
            "102/102 [==============================] - ETA: 0s - loss: 0.0470 - accuracy: 0.9960\n",
            "Epoch 4: saving model to best_model.hdf5\n",
            "102/102 [==============================] - 210s 2s/step - loss: 0.0470 - accuracy: 0.9960 - val_loss: 0.1431 - val_accuracy: 0.9625\n",
            "Epoch 5/10\n",
            "102/102 [==============================] - ETA: 0s - loss: 0.0323 - accuracy: 0.9982\n",
            "Epoch 5: saving model to best_model.hdf5\n",
            "102/102 [==============================] - 211s 2s/step - loss: 0.0323 - accuracy: 0.9982 - val_loss: 0.1331 - val_accuracy: 0.9638\n",
            "Epoch 6/10\n",
            "102/102 [==============================] - ETA: 0s - loss: 0.0224 - accuracy: 0.9995\n",
            "Epoch 6: saving model to best_model.hdf5\n",
            "102/102 [==============================] - 212s 2s/step - loss: 0.0224 - accuracy: 0.9995 - val_loss: 0.1243 - val_accuracy: 0.9669\n",
            "Epoch 7/10\n",
            "102/102 [==============================] - ETA: 0s - loss: 0.0169 - accuracy: 0.9995\n",
            "Epoch 7: saving model to best_model.hdf5\n",
            "102/102 [==============================] - 212s 2s/step - loss: 0.0169 - accuracy: 0.9995 - val_loss: 0.1202 - val_accuracy: 0.9663\n",
            "Epoch 8/10\n",
            "102/102 [==============================] - ETA: 0s - loss: 0.0145 - accuracy: 0.9998\n",
            "Epoch 8: saving model to best_model.hdf5\n",
            "102/102 [==============================] - 210s 2s/step - loss: 0.0145 - accuracy: 0.9998 - val_loss: 0.1220 - val_accuracy: 0.9663\n",
            "Epoch 9/10\n",
            "102/102 [==============================] - ETA: 0s - loss: 0.0121 - accuracy: 0.9994\n",
            "Epoch 9: saving model to best_model.hdf5\n",
            "102/102 [==============================] - 211s 2s/step - loss: 0.0121 - accuracy: 0.9994 - val_loss: 0.1164 - val_accuracy: 0.9712\n",
            "Epoch 10/10\n",
            "102/102 [==============================] - ETA: 0s - loss: 0.0090 - accuracy: 0.9998\n",
            "Epoch 10: saving model to best_model.hdf5\n",
            "102/102 [==============================] - 210s 2s/step - loss: 0.0090 - accuracy: 0.9998 - val_loss: 0.1121 - val_accuracy: 0.9688\n"
          ]
        }
      ]
    },
    {
      "cell_type": "code",
      "source": [
        "model.save('data/model_last.hdf5')\n",
        "model.load_weights('best_model.hdf5')"
      ],
      "metadata": {
        "id": "Xk1YBRmFVjS3"
      },
      "execution_count": 124,
      "outputs": []
    },
    {
      "cell_type": "code",
      "source": [
        "scores = model.evaluate_generator(test_generator, verbose=1)\n",
        "print('accuracy: %.2f%%' % (scores[1] * 100))"
      ],
      "metadata": {
        "colab": {
          "base_uri": "https://localhost:8080/"
        },
        "outputId": "be611481-895d-44b8-ddfb-1c4be7dfc01a",
        "id": "kD8cpca9Ve9f"
      },
      "execution_count": 125,
      "outputs": [
        {
          "output_type": "stream",
          "name": "stderr",
          "text": [
            "/usr/local/lib/python3.7/dist-packages/ipykernel_launcher.py:1: UserWarning: `Model.evaluate_generator` is deprecated and will be removed in a future version. Please use `Model.evaluate`, which supports generators.\n",
            "  \"\"\"Entry point for launching an IPython kernel.\n"
          ]
        },
        {
          "output_type": "stream",
          "name": "stdout",
          "text": [
            "26/26 [==============================] - 12s 462ms/step - loss: 0.1123 - accuracy: 0.9689\n",
            "accuracy: 96.89%\n"
          ]
        }
      ]
    }
  ]
}